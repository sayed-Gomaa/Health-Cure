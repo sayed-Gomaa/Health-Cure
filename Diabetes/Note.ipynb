{
 "cells": [
  {
   "cell_type": "markdown",
   "id": "22f11f66",
   "metadata": {},
   "source": [
    "# Missingno Library\n",
    "\n",
    "In the case of a real-world dataset, it is very common that some values in the dataset are missing. We represent these missing values as NaN (Not a Number) values. But to build a good machine learning model our dataset should be complete. That’s why we use some imputation techniques to replace the NaN values with some probable values. But before doing that we need to have a good understanding of how the NaN values are distributed in our dataset.\n",
    "\n",
    "Missingno library offers a very nice way to visualize the distribution of NaN values. Missingno is a Python library and compatible with Pandas."
   ]
  },
  {
   "cell_type": "markdown",
   "id": "e10696e3",
   "metadata": {},
   "source": [
    "## Matrix :\n",
    "Using this matrix you can very quickly find the pattern of missingness in the dataset. In our example, the columns AAWhiteSt-4 and SulphidityL-4 have a similar pattern of missing values while UCZAA shows a different pattern."
   ]
  },
  {
   "cell_type": "code",
   "execution_count": null,
   "id": "8700d61f",
   "metadata": {},
   "outputs": [],
   "source": [
    "# Program to visualize missing values in dataset\n",
    "  \n",
    "# Importing the libraries\n",
    "import pandas as pd\n",
    "import missingno as msno\n",
    "  \n",
    "# Loading the dataset\n",
    "df = pd.read_csv(\"kamyr-digester.csv\")\n",
    "  \n",
    "# Visualize missing values as a matrix\n",
    "msno.matrix(df)"
   ]
  },
  {
   "cell_type": "markdown",
   "id": "dd3923d2",
   "metadata": {},
   "source": [
    "## Bar Chart :\n",
    "This bar chart gives you an idea about how many missing values are there in each column. In our example, AAWhiteSt-4 and SulphidityL-4 contain the most number of missing values followed by UCZAA"
   ]
  },
  {
   "cell_type": "code",
   "execution_count": null,
   "id": "b0e5d078",
   "metadata": {},
   "outputs": [],
   "source": [
    "# Program to visualize missing values in dataset\n",
    "  \n",
    "# Importing the libraries\n",
    "import pandas as pd\n",
    "import missingno as msno\n",
    "  \n",
    "# Loading the dataset\n",
    "df = pd.read_csv(\"kamyr-digester.csv\")\n",
    "  \n",
    "# Visualize the number of missing\n",
    "# values as a bar chart\n",
    "msno.bar(df)"
   ]
  },
  {
   "cell_type": "markdown",
   "id": "a9c4c767",
   "metadata": {},
   "source": [
    "## Heatmap :\n",
    "Heatmap shows the correlation of missingness between every 2 columns. In our example, the correlation between AAWhiteSt-4 and SulphidityL-4 is 1 which means if one of them is present then the other one must be present.\n",
    "\n",
    "A value near -1 means if one variable appears then the other variable is very likely to be missing.\n",
    "A value near 0 means there is no dependence between the occurrence of missing values of two variables.\n",
    "A value near 1 means if one variable appears then the other variable is very likely to be present."
   ]
  },
  {
   "cell_type": "code",
   "execution_count": null,
   "id": "300560e2",
   "metadata": {},
   "outputs": [],
   "source": [
    "  \n",
    "# Importing the libraries\n",
    "import pandas as pd\n",
    "import missingno as msno\n",
    "  \n",
    "# Loading the dataset\n",
    "df = pd.read_csv(\"kamyr-digester.csv\")\n",
    "  \n",
    "  \n",
    "# Visualize the correlation between the number of\n",
    "# missing values in different columns as a heatmap\n",
    "msno.heatmap(df)"
   ]
  },
  {
   "cell_type": "markdown",
   "id": "24cc7f42",
   "metadata": {},
   "source": [
    "# What is KNNImputer in scikit-learn?"
   ]
  },
  {
   "cell_type": "markdown",
   "id": "d147ee9e",
   "metadata": {},
   "source": [
    "The KNNImputer belongs to the scikit-learn module in Python.\n",
    "\n",
    "The KNNImputer is used to fill in missing values in a dataset using the k-Nearest Neighbors method.\n",
    "\n",
    "k-Nearest Neighbors algorithm is used for classification and prediction problems.\n",
    "\n",
    "The KNNImputer predicts the value of a missing value by observing trends in related columns. It then chooses the best fit value based on the k-Nearest Neighbors algorithm.\n",
    "\n",
    "The illustration below show how KNNImputer works in scikit-learn:\n",
    "\n",
    "KNNImputer class is defined as follows:\n",
    "\n",
    "class sklearn.impute.KNNImputer(*, missing_values=nan, n_neighbors=5, weights='uniform', metric='nan_euclidean', copy=True, add_indicator=False)\n",
    "\n",
    "fit(X)\tFit the imputer on X.\n",
    "\n",
    "fit_transform(X)Fit to data, then transform it"
   ]
  },
  {
   "cell_type": "code",
   "execution_count": null,
   "id": "6b7d6213",
   "metadata": {},
   "outputs": [],
   "source": [
    "import numpy as np # Importing numpy to create an array\n",
    "from sklearn.impute import KNNImputer \n",
    "# Creating array with missing values \n",
    "X = [[1, 2, np.nan], [3, 6, 12], [np.nan, 12, 24], [2, 4, 16]] \n",
    "print(\"Original array: \", X)\n",
    "imputer = KNNImputer(n_neighbors=2) # Creating a KNNImputer\n",
    "array = imputer.fit_transform(X) # Imputing data \n",
    "print(\"Updated array: \", array)"
   ]
  },
  {
   "cell_type": "code",
   "execution_count": null,
   "id": "a47b6916",
   "metadata": {},
   "outputs": [],
   "source": []
  },
  {
   "cell_type": "markdown",
   "id": "15cfca13",
   "metadata": {},
   "source": [
    "# Tuning the hyper-parameters of an estimator\n",
    "\n",
    "- Hyper-parameters are parameters that are not directly learnt within estimators. In scikit-learn they are passed as arguments to the constructor of the estimator classes. Typical examples include C, kernel and gamma for Support Vector Classifier, alpha for Lasso, etc.\n",
    "\n",
    "- It is possible and recommended to search the hyper-parameter space for the best cross validation score.\n",
    "\n",
    " for more info :https://scikit-learn.org/stable/modules/grid_search.html\n",
    "\n"
   ]
  },
  {
   "cell_type": "code",
   "execution_count": null,
   "id": "0ffcf124",
   "metadata": {},
   "outputs": [],
   "source": []
  }
 ],
 "metadata": {
  "kernelspec": {
   "display_name": "Python 3 (ipykernel)",
   "language": "python",
   "name": "python3"
  },
  "language_info": {
   "codemirror_mode": {
    "name": "ipython",
    "version": 3
   },
   "file_extension": ".py",
   "mimetype": "text/x-python",
   "name": "python",
   "nbconvert_exporter": "python",
   "pygments_lexer": "ipython3",
   "version": "3.7.11"
  }
 },
 "nbformat": 4,
 "nbformat_minor": 5
}
