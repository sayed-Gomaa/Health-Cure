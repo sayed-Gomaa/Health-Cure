{
 "cells": [
  {
   "cell_type": "markdown",
   "id": "45f0b2b9",
   "metadata": {
    "_cell_guid": "b1076dfc-b9ad-4769-8c92-a6c4dae69d19",
    "_uuid": "8f2839f25d086af736a60e9eeb907d3b93b6e0e5",
    "papermill": {
     "duration": 0.061628,
     "end_time": "2022-04-23T22:51:01.076322",
     "exception": false,
     "start_time": "2022-04-23T22:51:01.014694",
     "status": "completed"
    },
    "tags": []
   },
   "source": [
    "# Import Libraries"
   ]
  },
  {
   "cell_type": "code",
   "execution_count": 8,
   "id": "c9d6b299",
   "metadata": {
    "execution": {
     "iopub.execute_input": "2022-04-23T22:51:01.202239Z",
     "iopub.status.busy": "2022-04-23T22:51:01.201520Z",
     "iopub.status.idle": "2022-04-23T22:51:03.904674Z",
     "shell.execute_reply": "2022-04-23T22:51:03.903945Z"
    },
    "papermill": {
     "duration": 2.76969,
     "end_time": "2022-04-23T22:51:03.907137",
     "exception": false,
     "start_time": "2022-04-23T22:51:01.137447",
     "status": "completed"
    },
    "tags": []
   },
   "outputs": [
    {
     "ename": "ModuleNotFoundError",
     "evalue": "No module named 'catboost'",
     "output_type": "error",
     "traceback": [
      "\u001b[1;31m---------------------------------------------------------------------------\u001b[0m",
      "\u001b[1;31mModuleNotFoundError\u001b[0m                       Traceback (most recent call last)",
      "\u001b[1;32m~\\AppData\\Local\\Temp/ipykernel_12640/903464700.py\u001b[0m in \u001b[0;36m<module>\u001b[1;34m\u001b[0m\n\u001b[0;32m     16\u001b[0m \u001b[1;31m#from xgboost import XGBRegressor, XGBClassifier\u001b[0m\u001b[1;33m\u001b[0m\u001b[1;33m\u001b[0m\u001b[1;33m\u001b[0m\u001b[0m\n\u001b[0;32m     17\u001b[0m \u001b[1;31m#from lightgbm import LGBMRegressor, LGBMClassifier\u001b[0m\u001b[1;33m\u001b[0m\u001b[1;33m\u001b[0m\u001b[1;33m\u001b[0m\u001b[0m\n\u001b[1;32m---> 18\u001b[1;33m \u001b[1;32mfrom\u001b[0m \u001b[0mcatboost\u001b[0m \u001b[1;32mimport\u001b[0m \u001b[0mCatBoostRegressor\u001b[0m\u001b[1;33m,\u001b[0m \u001b[0mCatBoostClassifier\u001b[0m\u001b[1;33m\u001b[0m\u001b[1;33m\u001b[0m\u001b[0m\n\u001b[0m\u001b[0;32m     19\u001b[0m \u001b[1;32mfrom\u001b[0m \u001b[0msklearn\u001b[0m \u001b[1;32mimport\u001b[0m \u001b[0msvm\u001b[0m \u001b[1;31m# for Support Vector Machine\u001b[0m\u001b[1;33m\u001b[0m\u001b[1;33m\u001b[0m\u001b[0m\n\u001b[0;32m     20\u001b[0m \u001b[1;32mfrom\u001b[0m \u001b[0msklearn\u001b[0m \u001b[1;32mimport\u001b[0m \u001b[0mmetrics\u001b[0m \u001b[1;31m# for the check the error and accuracy of the model\u001b[0m\u001b[1;33m\u001b[0m\u001b[1;33m\u001b[0m\u001b[0m\n",
      "\u001b[1;31mModuleNotFoundError\u001b[0m: No module named 'catboost'"
     ]
    }
   ],
   "source": [
    "import numpy as np # linear algebra\n",
    "import pandas as pd # data processing, CSV file I/O (e.g. pd.read_csv), data manipulation as in SQL\n",
    "import matplotlib.pyplot as plt # this is used for the plot the graph \n",
    "import seaborn as sns # used for plot interactive graph. I like it most for plot\n",
    "%matplotlib inline\n",
    "from sklearn.impute import KNNImputer\n",
    "from sklearn.linear_model import LogisticRegression # to apply the Logistic regression\n",
    "from sklearn.model_selection import train_test_split # to split the data into two parts\n",
    "from sklearn.model_selection import KFold # use for cross validation\n",
    "from sklearn.model_selection import GridSearchCV# for tuning parameter\n",
    "from sklearn.ensemble import RandomForestClassifier # for random forest classifier\n",
    "from sklearn.naive_bayes import GaussianNB\n",
    "from sklearn.neighbors import KNeighborsClassifier\n",
    "from sklearn.tree import DecisionTreeClassifier\n",
    "from sklearn.ensemble import GradientBoostingRegressor, GradientBoostingClassifier\n",
    "#from xgboost import XGBRegressor, XGBClassifier\n",
    "#from lightgbm import LGBMRegressor, LGBMClassifier\n",
    "from catboost import CatBoostRegressor, CatBoostClassifier\n",
    "from sklearn import svm # for Support Vector Machine\n",
    "from sklearn import metrics # for the check the error and accuracy of the model\n",
    "from sklearn.model_selection import train_test_split, cross_val_score, cross_val_predict\n",
    "from sklearn.metrics import confusion_matrix, accuracy_score, classification_report, roc_auc_score, roc_curve\n",
    "# Any results you write to the current directory are saved as output.\n",
    "# dont worry about the error if its not working then insteda of model_selection we can use cross_validation"
   ]
  },
  {
   "cell_type": "markdown",
   "id": "c20a6539",
   "metadata": {
    "papermill": {
     "duration": 0.061187,
     "end_time": "2022-04-23T22:51:04.031021",
     "exception": false,
     "start_time": "2022-04-23T22:51:03.969834",
     "status": "completed"
    },
    "tags": []
   },
   "source": [
    "# Dataset Description\n",
    "The data is taken from \"https://www.kaggle.com/mathchi/diabetes-data-set\"\n",
    "\n",
    "This dataset is originally from the National Institute of Diabetes and Digestive and Kidney Diseases.All the patients here are female 21 years or older.It contains the following columns:\n",
    "\n",
    "Pregnancies: Number of times pregnant\n",
    "Glucose: Plasma glucose concentration a 2 hours in an oral glucose tolerance test\n",
    "BloodPressure: Diastolic blood pressure (mm Hg)\n",
    "SkinThickness: Triceps skin fold thickness (mm)\n",
    "Insulin: 2-Hour serum insulin (mu U/ml)\n",
    "BMI: Body mass index (weight in kg/(height in m)^2)\n",
    "DiabetesPedigreeFunction: Diabetes pedigree function\n",
    "Age: Age (years)\n",
    "Outcome: Class variable (0 or 1)"
   ]
  },
  {
   "cell_type": "markdown",
   "id": "022ba1da",
   "metadata": {
    "papermill": {
     "duration": 0.062141,
     "end_time": "2022-04-23T22:51:04.156284",
     "exception": false,
     "start_time": "2022-04-23T22:51:04.094143",
     "status": "completed"
    },
    "tags": []
   },
   "source": [
    "# Objectives\n",
    "Clean the data and deal with missing values \n",
    "\n",
    "Perform EDA to get a better understanding of underlying trends\n",
    "\n",
    "Fit different models and tune their hyperparameter for best performance"
   ]
  },
  {
   "cell_type": "markdown",
   "id": "faa5062e",
   "metadata": {
    "papermill": {
     "duration": 0.063917,
     "end_time": "2022-04-23T22:51:04.282656",
     "exception": false,
     "start_time": "2022-04-23T22:51:04.218739",
     "status": "completed"
    },
    "tags": []
   },
   "source": [
    "# Data Cleaning"
   ]
  },
  {
   "cell_type": "code",
   "execution_count": null,
   "id": "f696f4d5",
   "metadata": {
    "execution": {
     "iopub.execute_input": "2022-04-23T22:51:04.408426Z",
     "iopub.status.busy": "2022-04-23T22:51:04.407651Z",
     "iopub.status.idle": "2022-04-23T22:51:04.429817Z",
     "shell.execute_reply": "2022-04-23T22:51:04.428943Z"
    },
    "papermill": {
     "duration": 0.08832,
     "end_time": "2022-04-23T22:51:04.432233",
     "exception": false,
     "start_time": "2022-04-23T22:51:04.343913",
     "status": "completed"
    },
    "tags": []
   },
   "outputs": [],
   "source": [
    "data=pd.read_csv('diabetes.csv')"
   ]
  },
  {
   "cell_type": "code",
   "execution_count": null,
   "id": "11dd3cc8",
   "metadata": {
    "execution": {
     "iopub.execute_input": "2022-04-23T22:51:04.555206Z",
     "iopub.status.busy": "2022-04-23T22:51:04.554728Z",
     "iopub.status.idle": "2022-04-23T22:51:04.576646Z",
     "shell.execute_reply": "2022-04-23T22:51:04.575623Z"
    },
    "papermill": {
     "duration": 0.085866,
     "end_time": "2022-04-23T22:51:04.578960",
     "exception": false,
     "start_time": "2022-04-23T22:51:04.493094",
     "status": "completed"
    },
    "tags": []
   },
   "outputs": [],
   "source": [
    "data.head(10)"
   ]
  },
  {
   "cell_type": "code",
   "execution_count": null,
   "id": "2bb0a987",
   "metadata": {
    "execution": {
     "iopub.execute_input": "2022-04-23T22:51:04.704160Z",
     "iopub.status.busy": "2022-04-23T22:51:04.703861Z",
     "iopub.status.idle": "2022-04-23T22:51:04.727198Z",
     "shell.execute_reply": "2022-04-23T22:51:04.726519Z"
    },
    "papermill": {
     "duration": 0.088822,
     "end_time": "2022-04-23T22:51:04.729937",
     "exception": false,
     "start_time": "2022-04-23T22:51:04.641115",
     "status": "completed"
    },
    "tags": []
   },
   "outputs": [],
   "source": [
    "data.info()"
   ]
  },
  {
   "cell_type": "code",
   "execution_count": null,
   "id": "2038e145",
   "metadata": {
    "execution": {
     "iopub.execute_input": "2022-04-23T22:51:04.858139Z",
     "iopub.status.busy": "2022-04-23T22:51:04.857817Z",
     "iopub.status.idle": "2022-04-23T22:51:04.866556Z",
     "shell.execute_reply": "2022-04-23T22:51:04.865676Z"
    },
    "papermill": {
     "duration": 0.074301,
     "end_time": "2022-04-23T22:51:04.868812",
     "exception": false,
     "start_time": "2022-04-23T22:51:04.794511",
     "status": "completed"
    },
    "tags": []
   },
   "outputs": [],
   "source": [
    "data.isnull().sum()"
   ]
  },
  {
   "cell_type": "code",
   "execution_count": null,
   "id": "ba4dbbf5",
   "metadata": {
    "execution": {
     "iopub.execute_input": "2022-04-23T22:51:04.997348Z",
     "iopub.status.busy": "2022-04-23T22:51:04.997008Z",
     "iopub.status.idle": "2022-04-23T22:51:05.006583Z",
     "shell.execute_reply": "2022-04-23T22:51:05.005822Z"
    },
    "papermill": {
     "duration": 0.07581,
     "end_time": "2022-04-23T22:51:05.008640",
     "exception": false,
     "start_time": "2022-04-23T22:51:04.932830",
     "status": "completed"
    },
    "tags": []
   },
   "outputs": [],
   "source": [
    "data.duplicated().sum()"
   ]
  },
  {
   "cell_type": "code",
   "execution_count": null,
   "id": "8cbb095e",
   "metadata": {
    "execution": {
     "iopub.execute_input": "2022-04-23T22:51:05.135288Z",
     "iopub.status.busy": "2022-04-23T22:51:05.134976Z",
     "iopub.status.idle": "2022-04-23T22:51:05.182871Z",
     "shell.execute_reply": "2022-04-23T22:51:05.181760Z"
    },
    "papermill": {
     "duration": 0.114251,
     "end_time": "2022-04-23T22:51:05.185584",
     "exception": false,
     "start_time": "2022-04-23T22:51:05.071333",
     "status": "completed"
    },
    "tags": []
   },
   "outputs": [],
   "source": [
    "data.describe()"
   ]
  },
  {
   "cell_type": "markdown",
   "id": "ad5cad8f",
   "metadata": {
    "papermill": {
     "duration": 0.063617,
     "end_time": "2022-04-23T22:51:05.314806",
     "exception": false,
     "start_time": "2022-04-23T22:51:05.251189",
     "status": "completed"
    },
    "tags": []
   },
   "source": [
    "### observation\n",
    "We note that minimum value for columns such as Glucose,BP,Insulin,BMI are 0 which is not possible , hence these must be missing values which are encoded as 0 We can use imputation techniques to deal with these"
   ]
  },
  {
   "cell_type": "code",
   "execution_count": null,
   "id": "d506a8dc",
   "metadata": {
    "execution": {
     "iopub.execute_input": "2022-04-23T22:51:05.444568Z",
     "iopub.status.busy": "2022-04-23T22:51:05.444092Z",
     "iopub.status.idle": "2022-04-23T22:51:05.457961Z",
     "shell.execute_reply": "2022-04-23T22:51:05.457170Z"
    },
    "papermill": {
     "duration": 0.081576,
     "end_time": "2022-04-23T22:51:05.460420",
     "exception": false,
     "start_time": "2022-04-23T22:51:05.378844",
     "status": "completed"
    },
    "tags": []
   },
   "outputs": [],
   "source": [
    "corrupted_data=data.loc[:,'Glucose':'BMI']\n",
    "corrupted_data.replace(0,np.nan,inplace=True)\n",
    "data.loc[:,'Glucose':'BMI']=corrupted_data"
   ]
  },
  {
   "cell_type": "code",
   "execution_count": null,
   "id": "32b3a815",
   "metadata": {
    "execution": {
     "iopub.execute_input": "2022-04-23T22:51:05.593363Z",
     "iopub.status.busy": "2022-04-23T22:51:05.592921Z",
     "iopub.status.idle": "2022-04-23T22:51:05.633672Z",
     "shell.execute_reply": "2022-04-23T22:51:05.632698Z"
    },
    "papermill": {
     "duration": 0.10872,
     "end_time": "2022-04-23T22:51:05.635732",
     "exception": false,
     "start_time": "2022-04-23T22:51:05.527012",
     "status": "completed"
    },
    "tags": []
   },
   "outputs": [],
   "source": [
    "data.describe()"
   ]
  },
  {
   "cell_type": "code",
   "execution_count": null,
   "id": "5f40119a",
   "metadata": {
    "execution": {
     "iopub.execute_input": "2022-04-23T22:51:05.766110Z",
     "iopub.status.busy": "2022-04-23T22:51:05.765697Z",
     "iopub.status.idle": "2022-04-23T22:51:05.774222Z",
     "shell.execute_reply": "2022-04-23T22:51:05.773151Z"
    },
    "papermill": {
     "duration": 0.076414,
     "end_time": "2022-04-23T22:51:05.776245",
     "exception": false,
     "start_time": "2022-04-23T22:51:05.699831",
     "status": "completed"
    },
    "tags": []
   },
   "outputs": [],
   "source": [
    "data.isnull().sum()"
   ]
  },
  {
   "cell_type": "markdown",
   "id": "1a4b87be",
   "metadata": {
    "execution": {
     "iopub.execute_input": "2022-04-21T22:35:28.290348Z",
     "iopub.status.busy": "2022-04-21T22:35:28.290032Z",
     "iopub.status.idle": "2022-04-21T22:35:28.297085Z",
     "shell.execute_reply": "2022-04-21T22:35:28.295864Z",
     "shell.execute_reply.started": "2022-04-21T22:35:28.290316Z"
    },
    "papermill": {
     "duration": 0.063732,
     "end_time": "2022-04-23T22:51:05.903885",
     "exception": false,
     "start_time": "2022-04-23T22:51:05.840153",
     "status": "completed"
    },
    "tags": []
   },
   "source": [
    "Lets observe these missing values more closely and find out if their is any relation"
   ]
  },
  {
   "cell_type": "code",
   "execution_count": null,
   "id": "62d9c073",
   "metadata": {
    "execution": {
     "iopub.execute_input": "2022-04-23T22:51:06.034941Z",
     "iopub.status.busy": "2022-04-23T22:51:06.034530Z",
     "iopub.status.idle": "2022-04-23T22:51:06.044156Z",
     "shell.execute_reply": "2022-04-23T22:51:06.043454Z"
    },
    "papermill": {
     "duration": 0.077916,
     "end_time": "2022-04-23T22:51:06.046690",
     "exception": false,
     "start_time": "2022-04-23T22:51:05.968774",
     "status": "completed"
    },
    "tags": []
   },
   "outputs": [],
   "source": [
    "import missingno as msno"
   ]
  },
  {
   "cell_type": "code",
   "execution_count": null,
   "id": "c9e42daa",
   "metadata": {
    "execution": {
     "iopub.execute_input": "2022-04-23T22:51:06.178213Z",
     "iopub.status.busy": "2022-04-23T22:51:06.177803Z",
     "iopub.status.idle": "2022-04-23T22:51:07.344174Z",
     "shell.execute_reply": "2022-04-23T22:51:07.343403Z"
    },
    "papermill": {
     "duration": 1.234981,
     "end_time": "2022-04-23T22:51:07.346375",
     "exception": false,
     "start_time": "2022-04-23T22:51:06.111394",
     "status": "completed"
    },
    "tags": []
   },
   "outputs": [],
   "source": [
    "msno.bar(data)"
   ]
  },
  {
   "cell_type": "code",
   "execution_count": null,
   "id": "f19d002b",
   "metadata": {
    "execution": {
     "iopub.execute_input": "2022-04-23T22:51:07.485356Z",
     "iopub.status.busy": "2022-04-23T22:51:07.484811Z",
     "iopub.status.idle": "2022-04-23T22:51:08.091686Z",
     "shell.execute_reply": "2022-04-23T22:51:08.090805Z"
    },
    "papermill": {
     "duration": 0.678749,
     "end_time": "2022-04-23T22:51:08.093847",
     "exception": false,
     "start_time": "2022-04-23T22:51:07.415098",
     "status": "completed"
    },
    "tags": []
   },
   "outputs": [],
   "source": [
    "msno.matrix(data)"
   ]
  },
  {
   "cell_type": "code",
   "execution_count": null,
   "id": "fa0ce742",
   "metadata": {
    "execution": {
     "iopub.execute_input": "2022-04-23T22:51:08.234848Z",
     "iopub.status.busy": "2022-04-23T22:51:08.234266Z",
     "iopub.status.idle": "2022-04-23T22:51:08.810941Z",
     "shell.execute_reply": "2022-04-23T22:51:08.809862Z"
    },
    "papermill": {
     "duration": 0.650219,
     "end_time": "2022-04-23T22:51:08.813678",
     "exception": false,
     "start_time": "2022-04-23T22:51:08.163459",
     "status": "completed"
    },
    "tags": []
   },
   "outputs": [],
   "source": [
    "msno.matrix(data.sort_values(by=\"Insulin\"))"
   ]
  },
  {
   "cell_type": "markdown",
   "id": "28fdeff0",
   "metadata": {
    "papermill": {
     "duration": 0.071192,
     "end_time": "2022-04-23T22:51:08.956595",
     "exception": false,
     "start_time": "2022-04-23T22:51:08.885403",
     "status": "completed"
    },
    "tags": []
   },
   "source": [
    "Looking at the above matrix we can figure out that glucose and BMI are MCAR(Missing completely at random) and insulin , SkinThickness are MNAR(Missing not at random)"
   ]
  },
  {
   "cell_type": "code",
   "execution_count": 4,
   "id": "ef172e06",
   "metadata": {
    "execution": {
     "iopub.execute_input": "2022-04-23T22:51:09.103781Z",
     "iopub.status.busy": "2022-04-23T22:51:09.103510Z",
     "iopub.status.idle": "2022-04-23T22:51:09.547988Z",
     "shell.execute_reply": "2022-04-23T22:51:09.546891Z"
    },
    "papermill": {
     "duration": 0.520728,
     "end_time": "2022-04-23T22:51:09.550234",
     "exception": false,
     "start_time": "2022-04-23T22:51:09.029506",
     "status": "completed"
    },
    "tags": []
   },
   "outputs": [
    {
     "ename": "NameError",
     "evalue": "name 'msno' is not defined",
     "output_type": "error",
     "traceback": [
      "\u001b[1;31m---------------------------------------------------------------------------\u001b[0m",
      "\u001b[1;31mNameError\u001b[0m                                 Traceback (most recent call last)",
      "\u001b[1;32m~\\AppData\\Local\\Temp/ipykernel_12640/3583989477.py\u001b[0m in \u001b[0;36m<module>\u001b[1;34m\u001b[0m\n\u001b[1;32m----> 1\u001b[1;33m \u001b[0mmsno\u001b[0m\u001b[1;33m.\u001b[0m\u001b[0mheatmap\u001b[0m\u001b[1;33m(\u001b[0m\u001b[0mdata\u001b[0m\u001b[1;33m)\u001b[0m\u001b[1;33m\u001b[0m\u001b[1;33m\u001b[0m\u001b[0m\n\u001b[0m",
      "\u001b[1;31mNameError\u001b[0m: name 'msno' is not defined"
     ]
    }
   ],
   "source": [
    "msno.heatmap(data)"
   ]
  },
  {
   "cell_type": "markdown",
   "id": "9b836656",
   "metadata": {
    "papermill": {
     "duration": 0.072842,
     "end_time": "2022-04-23T22:51:09.696432",
     "exception": false,
     "start_time": "2022-04-23T22:51:09.623590",
     "status": "completed"
    },
    "tags": []
   },
   "source": [
    "We can see heavy correlation between SkinThickness and Insulin\n"
   ]
  },
  {
   "cell_type": "code",
   "execution_count": null,
   "id": "dc5304ea",
   "metadata": {
    "execution": {
     "iopub.execute_input": "2022-04-23T22:51:09.848375Z",
     "iopub.status.busy": "2022-04-23T22:51:09.848044Z",
     "iopub.status.idle": "2022-04-23T22:51:09.855809Z",
     "shell.execute_reply": "2022-04-23T22:51:09.854917Z"
    },
    "papermill": {
     "duration": 0.084929,
     "end_time": "2022-04-23T22:51:09.857912",
     "exception": false,
     "start_time": "2022-04-23T22:51:09.772983",
     "status": "completed"
    },
    "tags": []
   },
   "outputs": [],
   "source": [
    "# drop rows having missing values for Glucose or BMI\n",
    "data.dropna(subset=['Glucose','BMI'],inplace=True)"
   ]
  },
  {
   "cell_type": "code",
   "execution_count": null,
   "id": "439c0ad5",
   "metadata": {
    "execution": {
     "iopub.execute_input": "2022-04-23T22:51:10.006855Z",
     "iopub.status.busy": "2022-04-23T22:51:10.006287Z",
     "iopub.status.idle": "2022-04-23T22:51:10.057529Z",
     "shell.execute_reply": "2022-04-23T22:51:10.056369Z"
    },
    "papermill": {
     "duration": 0.129041,
     "end_time": "2022-04-23T22:51:10.061274",
     "exception": false,
     "start_time": "2022-04-23T22:51:09.932233",
     "status": "completed"
    },
    "tags": []
   },
   "outputs": [],
   "source": [
    "data_knn=data.copy()\n",
    "knn_imputer=KNNImputer(n_neighbors=5)\n",
    "data_knn.iloc[:]=knn_imputer.fit_transform(data_knn)"
   ]
  },
  {
   "cell_type": "markdown",
   "id": "112c8730",
   "metadata": {
    "papermill": {
     "duration": 0.073268,
     "end_time": "2022-04-23T22:51:10.248005",
     "exception": false,
     "start_time": "2022-04-23T22:51:10.174737",
     "status": "completed"
    },
    "tags": []
   },
   "source": [
    "Using knnimputer we fill the missing values without impacting the variability of the dataset\n"
   ]
  },
  {
   "cell_type": "code",
   "execution_count": null,
   "id": "4c32d751",
   "metadata": {
    "execution": {
     "iopub.execute_input": "2022-04-23T22:51:10.395068Z",
     "iopub.status.busy": "2022-04-23T22:51:10.394740Z",
     "iopub.status.idle": "2022-04-23T22:51:10.436415Z",
     "shell.execute_reply": "2022-04-23T22:51:10.435719Z"
    },
    "papermill": {
     "duration": 0.117873,
     "end_time": "2022-04-23T22:51:10.438290",
     "exception": false,
     "start_time": "2022-04-23T22:51:10.320417",
     "status": "completed"
    },
    "tags": []
   },
   "outputs": [],
   "source": [
    "data_knn.describe()"
   ]
  },
  {
   "cell_type": "markdown",
   "id": "b6b65a1a",
   "metadata": {
    "papermill": {
     "duration": 0.073482,
     "end_time": "2022-04-23T22:51:10.585125",
     "exception": false,
     "start_time": "2022-04-23T22:51:10.511643",
     "status": "completed"
    },
    "tags": []
   },
   "source": [
    "## outlier removal"
   ]
  },
  {
   "cell_type": "code",
   "execution_count": null,
   "id": "ba4ecaed",
   "metadata": {
    "execution": {
     "iopub.execute_input": "2022-04-23T22:51:10.733216Z",
     "iopub.status.busy": "2022-04-23T22:51:10.732632Z",
     "iopub.status.idle": "2022-04-23T22:51:10.736387Z",
     "shell.execute_reply": "2022-04-23T22:51:10.735606Z"
    },
    "papermill": {
     "duration": 0.079827,
     "end_time": "2022-04-23T22:51:10.738436",
     "exception": false,
     "start_time": "2022-04-23T22:51:10.658609",
     "status": "completed"
    },
    "tags": []
   },
   "outputs": [],
   "source": [
    "cleaned_data=data_knn"
   ]
  },
  {
   "cell_type": "code",
   "execution_count": null,
   "id": "b31e3d4f",
   "metadata": {
    "execution": {
     "iopub.execute_input": "2022-04-23T22:51:10.888911Z",
     "iopub.status.busy": "2022-04-23T22:51:10.888396Z",
     "iopub.status.idle": "2022-04-23T22:51:11.084817Z",
     "shell.execute_reply": "2022-04-23T22:51:11.083724Z"
    },
    "papermill": {
     "duration": 0.273474,
     "end_time": "2022-04-23T22:51:11.087090",
     "exception": false,
     "start_time": "2022-04-23T22:51:10.813616",
     "status": "completed"
    },
    "tags": []
   },
   "outputs": [],
   "source": [
    "sns.boxplot(data=data_knn,x='Pregnancies')"
   ]
  },
  {
   "cell_type": "markdown",
   "id": "26fd6249",
   "metadata": {
    "papermill": {
     "duration": 0.075287,
     "end_time": "2022-04-23T22:51:11.237324",
     "exception": false,
     "start_time": "2022-04-23T22:51:11.162037",
     "status": "completed"
    },
    "tags": []
   },
   "source": [
    "value above 13 is outlier"
   ]
  },
  {
   "cell_type": "code",
   "execution_count": null,
   "id": "fc6201c8",
   "metadata": {
    "execution": {
     "iopub.execute_input": "2022-04-23T22:51:11.388730Z",
     "iopub.status.busy": "2022-04-23T22:51:11.388416Z",
     "iopub.status.idle": "2022-04-23T22:51:11.393363Z",
     "shell.execute_reply": "2022-04-23T22:51:11.392691Z"
    },
    "papermill": {
     "duration": 0.082756,
     "end_time": "2022-04-23T22:51:11.395204",
     "exception": false,
     "start_time": "2022-04-23T22:51:11.312448",
     "status": "completed"
    },
    "tags": []
   },
   "outputs": [],
   "source": [
    "cleaned_data=cleaned_data[cleaned_data['Pregnancies']<=13]"
   ]
  },
  {
   "cell_type": "code",
   "execution_count": null,
   "id": "88936142",
   "metadata": {
    "execution": {
     "iopub.execute_input": "2022-04-23T22:51:11.548554Z",
     "iopub.status.busy": "2022-04-23T22:51:11.548033Z",
     "iopub.status.idle": "2022-04-23T22:51:11.752183Z",
     "shell.execute_reply": "2022-04-23T22:51:11.751108Z"
    },
    "papermill": {
     "duration": 0.283587,
     "end_time": "2022-04-23T22:51:11.754358",
     "exception": false,
     "start_time": "2022-04-23T22:51:11.470771",
     "status": "completed"
    },
    "tags": []
   },
   "outputs": [],
   "source": [
    "sns.boxplot(data=data_knn,x='Glucose')"
   ]
  },
  {
   "cell_type": "markdown",
   "id": "747fb1e0",
   "metadata": {
    "papermill": {
     "duration": 0.076205,
     "end_time": "2022-04-23T22:51:11.907401",
     "exception": false,
     "start_time": "2022-04-23T22:51:11.831196",
     "status": "completed"
    },
    "tags": []
   },
   "source": [
    "there is no outlier"
   ]
  },
  {
   "cell_type": "code",
   "execution_count": null,
   "id": "71342da4",
   "metadata": {
    "execution": {
     "iopub.execute_input": "2022-04-23T22:51:12.062252Z",
     "iopub.status.busy": "2022-04-23T22:51:12.061942Z",
     "iopub.status.idle": "2022-04-23T22:51:12.245786Z",
     "shell.execute_reply": "2022-04-23T22:51:12.244759Z"
    },
    "papermill": {
     "duration": 0.263976,
     "end_time": "2022-04-23T22:51:12.247969",
     "exception": false,
     "start_time": "2022-04-23T22:51:11.983993",
     "status": "completed"
    },
    "tags": []
   },
   "outputs": [],
   "source": [
    "sns.boxplot(data=data_knn,x='BloodPressure')"
   ]
  },
  {
   "cell_type": "markdown",
   "id": "3cc84a3b",
   "metadata": {
    "papermill": {
     "duration": 0.076865,
     "end_time": "2022-04-23T22:51:12.401821",
     "exception": false,
     "start_time": "2022-04-23T22:51:12.324956",
     "status": "completed"
    },
    "tags": []
   },
   "source": [
    "outlier below 30 and above 110"
   ]
  },
  {
   "cell_type": "code",
   "execution_count": null,
   "id": "14f99bd9",
   "metadata": {
    "execution": {
     "iopub.execute_input": "2022-04-23T22:51:12.557092Z",
     "iopub.status.busy": "2022-04-23T22:51:12.556790Z",
     "iopub.status.idle": "2022-04-23T22:51:12.562544Z",
     "shell.execute_reply": "2022-04-23T22:51:12.561872Z"
    },
    "papermill": {
     "duration": 0.086188,
     "end_time": "2022-04-23T22:51:12.564658",
     "exception": false,
     "start_time": "2022-04-23T22:51:12.478470",
     "status": "completed"
    },
    "tags": []
   },
   "outputs": [],
   "source": [
    "cleaned_data=cleaned_data[cleaned_data['BloodPressure']>=30]\n",
    "cleaned_data=cleaned_data[cleaned_data['BloodPressure']<=110]"
   ]
  },
  {
   "cell_type": "code",
   "execution_count": null,
   "id": "9a1eb1f9",
   "metadata": {
    "execution": {
     "iopub.execute_input": "2022-04-23T22:51:12.728605Z",
     "iopub.status.busy": "2022-04-23T22:51:12.728285Z",
     "iopub.status.idle": "2022-04-23T22:51:12.896856Z",
     "shell.execute_reply": "2022-04-23T22:51:12.895764Z"
    },
    "papermill": {
     "duration": 0.255681,
     "end_time": "2022-04-23T22:51:12.899279",
     "exception": false,
     "start_time": "2022-04-23T22:51:12.643598",
     "status": "completed"
    },
    "tags": []
   },
   "outputs": [],
   "source": [
    "sns.boxplot(data=data_knn,x='SkinThickness')"
   ]
  },
  {
   "cell_type": "markdown",
   "id": "50d9a82a",
   "metadata": {
    "papermill": {
     "duration": 0.077736,
     "end_time": "2022-04-23T22:51:13.056430",
     "exception": false,
     "start_time": "2022-04-23T22:51:12.978694",
     "status": "completed"
    },
    "tags": []
   },
   "source": [
    "outlier above 70"
   ]
  },
  {
   "cell_type": "code",
   "execution_count": null,
   "id": "0d835941",
   "metadata": {
    "execution": {
     "iopub.execute_input": "2022-04-23T22:51:13.214266Z",
     "iopub.status.busy": "2022-04-23T22:51:13.213615Z",
     "iopub.status.idle": "2022-04-23T22:51:13.219691Z",
     "shell.execute_reply": "2022-04-23T22:51:13.218832Z"
    },
    "papermill": {
     "duration": 0.087576,
     "end_time": "2022-04-23T22:51:13.221730",
     "exception": false,
     "start_time": "2022-04-23T22:51:13.134154",
     "status": "completed"
    },
    "tags": []
   },
   "outputs": [],
   "source": [
    "cleaned_data=cleaned_data[cleaned_data['SkinThickness']<=70]"
   ]
  },
  {
   "cell_type": "code",
   "execution_count": null,
   "id": "ccf033f4",
   "metadata": {
    "execution": {
     "iopub.execute_input": "2022-04-23T22:51:13.380924Z",
     "iopub.status.busy": "2022-04-23T22:51:13.380505Z",
     "iopub.status.idle": "2022-04-23T22:51:13.505057Z",
     "shell.execute_reply": "2022-04-23T22:51:13.504021Z"
    },
    "papermill": {
     "duration": 0.206728,
     "end_time": "2022-04-23T22:51:13.507545",
     "exception": false,
     "start_time": "2022-04-23T22:51:13.300817",
     "status": "completed"
    },
    "tags": []
   },
   "outputs": [],
   "source": [
    "sns.boxplot(data=data_knn, x='Insulin')"
   ]
  },
  {
   "cell_type": "markdown",
   "id": "3c3cedfc",
   "metadata": {
    "papermill": {
     "duration": 0.078949,
     "end_time": "2022-04-23T22:51:13.667206",
     "exception": false,
     "start_time": "2022-04-23T22:51:13.588257",
     "status": "completed"
    },
    "tags": []
   },
   "source": [
    "outlier above 500"
   ]
  },
  {
   "cell_type": "code",
   "execution_count": 5,
   "id": "5f6ae4ad",
   "metadata": {
    "execution": {
     "iopub.execute_input": "2022-04-23T22:51:13.828332Z",
     "iopub.status.busy": "2022-04-23T22:51:13.828016Z",
     "iopub.status.idle": "2022-04-23T22:51:13.833639Z",
     "shell.execute_reply": "2022-04-23T22:51:13.832976Z"
    },
    "papermill": {
     "duration": 0.089356,
     "end_time": "2022-04-23T22:51:13.835686",
     "exception": false,
     "start_time": "2022-04-23T22:51:13.746330",
     "status": "completed"
    },
    "tags": []
   },
   "outputs": [
    {
     "ename": "NameError",
     "evalue": "name 'cleaned_data' is not defined",
     "output_type": "error",
     "traceback": [
      "\u001b[1;31m---------------------------------------------------------------------------\u001b[0m",
      "\u001b[1;31mNameError\u001b[0m                                 Traceback (most recent call last)",
      "\u001b[1;32m~\\AppData\\Local\\Temp/ipykernel_12640/4144317055.py\u001b[0m in \u001b[0;36m<module>\u001b[1;34m\u001b[0m\n\u001b[1;32m----> 1\u001b[1;33m \u001b[0mcleaned_data\u001b[0m\u001b[1;33m=\u001b[0m\u001b[0mcleaned_data\u001b[0m\u001b[1;33m[\u001b[0m\u001b[0mcleaned_data\u001b[0m\u001b[1;33m[\u001b[0m\u001b[1;34m'Insulin'\u001b[0m\u001b[1;33m]\u001b[0m\u001b[1;33m<=\u001b[0m\u001b[1;36m500\u001b[0m\u001b[1;33m]\u001b[0m\u001b[1;33m\u001b[0m\u001b[1;33m\u001b[0m\u001b[0m\n\u001b[0m",
      "\u001b[1;31mNameError\u001b[0m: name 'cleaned_data' is not defined"
     ]
    }
   ],
   "source": [
    "cleaned_data=cleaned_data[cleaned_data['Insulin']<=500]"
   ]
  },
  {
   "cell_type": "code",
   "execution_count": null,
   "id": "49fe9309",
   "metadata": {
    "execution": {
     "iopub.execute_input": "2022-04-23T22:51:13.995217Z",
     "iopub.status.busy": "2022-04-23T22:51:13.994533Z",
     "iopub.status.idle": "2022-04-23T22:51:14.185540Z",
     "shell.execute_reply": "2022-04-23T22:51:14.184517Z"
    },
    "papermill": {
     "duration": 0.2733,
     "end_time": "2022-04-23T22:51:14.187754",
     "exception": false,
     "start_time": "2022-04-23T22:51:13.914454",
     "status": "completed"
    },
    "tags": []
   },
   "outputs": [],
   "source": [
    "sns.boxplot(data=data_knn,x='Age')"
   ]
  },
  {
   "cell_type": "markdown",
   "id": "ccef5975",
   "metadata": {
    "papermill": {
     "duration": 0.081155,
     "end_time": "2022-04-23T22:51:14.351378",
     "exception": false,
     "start_time": "2022-04-23T22:51:14.270223",
     "status": "completed"
    },
    "tags": []
   },
   "source": [
    "outlier above 75"
   ]
  },
  {
   "cell_type": "code",
   "execution_count": null,
   "id": "f52ba0d1",
   "metadata": {
    "execution": {
     "iopub.execute_input": "2022-04-23T22:51:14.517379Z",
     "iopub.status.busy": "2022-04-23T22:51:14.517033Z",
     "iopub.status.idle": "2022-04-23T22:51:14.522385Z",
     "shell.execute_reply": "2022-04-23T22:51:14.521482Z"
    },
    "papermill": {
     "duration": 0.090633,
     "end_time": "2022-04-23T22:51:14.524444",
     "exception": false,
     "start_time": "2022-04-23T22:51:14.433811",
     "status": "completed"
    },
    "tags": []
   },
   "outputs": [],
   "source": [
    "cleaned_data=cleaned_data[cleaned_data['Age']<=75]"
   ]
  },
  {
   "cell_type": "markdown",
   "id": "1f766d1b",
   "metadata": {
    "papermill": {
     "duration": 0.080216,
     "end_time": "2022-04-23T22:51:14.685592",
     "exception": false,
     "start_time": "2022-04-23T22:51:14.605376",
     "status": "completed"
    },
    "tags": []
   },
   "source": [
    "### Exploratory Data Analysis"
   ]
  },
  {
   "cell_type": "code",
   "execution_count": null,
   "id": "00b6008f",
   "metadata": {
    "execution": {
     "iopub.execute_input": "2022-04-23T22:51:14.849843Z",
     "iopub.status.busy": "2022-04-23T22:51:14.849416Z",
     "iopub.status.idle": "2022-04-23T22:51:15.703367Z",
     "shell.execute_reply": "2022-04-23T22:51:15.702575Z"
    },
    "papermill": {
     "duration": 0.939372,
     "end_time": "2022-04-23T22:51:15.705397",
     "exception": false,
     "start_time": "2022-04-23T22:51:14.766025",
     "status": "completed"
    },
    "tags": []
   },
   "outputs": [],
   "source": [
    "plt.figure(figsize=(12,8))\n",
    "sns.heatmap(cleaned_data.corr(),annot=True)"
   ]
  },
  {
   "cell_type": "markdown",
   "id": "23b81788",
   "metadata": {
    "papermill": {
     "duration": 0.085259,
     "end_time": "2022-04-23T22:51:15.874426",
     "exception": false,
     "start_time": "2022-04-23T22:51:15.789167",
     "status": "completed"
    },
    "tags": []
   },
   "source": [
    "### The following conclusions can be drawn from the heatmap :\n",
    "\n",
    "- There is not much correlation among different predictors\n",
    "- Age and Pregnancy have a positive corr indicating that adults have more children\n",
    "- There is positive correlation among Insulin and Glucose as well which could be explained by the      fact that perhaps the type 1 diabetic patients who generally have high Glucose , were given        Insulin injections.\n",
    "- "
   ]
  },
  {
   "cell_type": "code",
   "execution_count": null,
   "id": "9690db8e",
   "metadata": {
    "execution": {
     "iopub.execute_input": "2022-04-23T22:51:16.045103Z",
     "iopub.status.busy": "2022-04-23T22:51:16.044666Z",
     "iopub.status.idle": "2022-04-23T22:51:16.698154Z",
     "shell.execute_reply": "2022-04-23T22:51:16.697461Z"
    },
    "papermill": {
     "duration": 0.741273,
     "end_time": "2022-04-23T22:51:16.700094",
     "exception": false,
     "start_time": "2022-04-23T22:51:15.958821",
     "status": "completed"
    },
    "tags": []
   },
   "outputs": [],
   "source": [
    "sns.displot(data=cleaned_data,x='Pregnancies',hue='Outcome',kde=True)"
   ]
  },
  {
   "cell_type": "markdown",
   "id": "7d5002d7",
   "metadata": {
    "papermill": {
     "duration": 0.085504,
     "end_time": "2022-04-23T22:51:16.871253",
     "exception": false,
     "start_time": "2022-04-23T22:51:16.785749",
     "status": "completed"
    },
    "tags": []
   },
   "source": [
    "it seem number of pregnancy doesn't impact in output"
   ]
  },
  {
   "cell_type": "code",
   "execution_count": null,
   "id": "4e5fad04",
   "metadata": {
    "execution": {
     "iopub.execute_input": "2022-04-23T22:51:17.043742Z",
     "iopub.status.busy": "2022-04-23T22:51:17.043457Z",
     "iopub.status.idle": "2022-04-23T22:51:17.792830Z",
     "shell.execute_reply": "2022-04-23T22:51:17.791855Z"
    },
    "papermill": {
     "duration": 0.838221,
     "end_time": "2022-04-23T22:51:17.794824",
     "exception": false,
     "start_time": "2022-04-23T22:51:16.956603",
     "status": "completed"
    },
    "tags": []
   },
   "outputs": [],
   "source": [
    "sns.displot(data=cleaned_data,x='Glucose', hue='Outcome',kde=True)"
   ]
  },
  {
   "cell_type": "markdown",
   "id": "baaff2e0",
   "metadata": {
    "papermill": {
     "duration": 0.09085,
     "end_time": "2022-04-23T22:51:17.973461",
     "exception": false,
     "start_time": "2022-04-23T22:51:17.882611",
     "status": "completed"
    },
    "tags": []
   },
   "source": [
    "People who don't have diabeties have glucose normally distributed around 100 as mean , while those with diabeties have much higher level of glucose ranging between 100 and 200"
   ]
  },
  {
   "cell_type": "code",
   "execution_count": null,
   "id": "44a072ae",
   "metadata": {
    "execution": {
     "iopub.execute_input": "2022-04-23T22:51:18.149179Z",
     "iopub.status.busy": "2022-04-23T22:51:18.148872Z",
     "iopub.status.idle": "2022-04-23T22:51:18.696737Z",
     "shell.execute_reply": "2022-04-23T22:51:18.695914Z"
    },
    "papermill": {
     "duration": 0.638694,
     "end_time": "2022-04-23T22:51:18.699552",
     "exception": false,
     "start_time": "2022-04-23T22:51:18.060858",
     "status": "completed"
    },
    "tags": []
   },
   "outputs": [],
   "source": [
    "sns.displot(data=cleaned_data ,x='Age',hue='Outcome',kind='kde')"
   ]
  },
  {
   "cell_type": "code",
   "execution_count": null,
   "id": "fc357ba5",
   "metadata": {
    "execution": {
     "iopub.execute_input": "2022-04-23T22:51:18.877130Z",
     "iopub.status.busy": "2022-04-23T22:51:18.876838Z",
     "iopub.status.idle": "2022-04-23T22:51:18.897245Z",
     "shell.execute_reply": "2022-04-23T22:51:18.896501Z"
    },
    "papermill": {
     "duration": 0.112526,
     "end_time": "2022-04-23T22:51:18.899431",
     "exception": false,
     "start_time": "2022-04-23T22:51:18.786905",
     "status": "completed"
    },
    "tags": []
   },
   "outputs": [],
   "source": [
    "data_knn.head()"
   ]
  },
  {
   "cell_type": "markdown",
   "id": "e552924d",
   "metadata": {
    "papermill": {
     "duration": 0.087877,
     "end_time": "2022-04-23T22:51:19.076013",
     "exception": false,
     "start_time": "2022-04-23T22:51:18.988136",
     "status": "completed"
    },
    "tags": []
   },
   "source": [
    "## Split Data for Training"
   ]
  },
  {
   "cell_type": "code",
   "execution_count": null,
   "id": "81a48271",
   "metadata": {
    "execution": {
     "iopub.execute_input": "2022-04-23T22:51:19.256286Z",
     "iopub.status.busy": "2022-04-23T22:51:19.255789Z",
     "iopub.status.idle": "2022-04-23T22:51:19.260074Z",
     "shell.execute_reply": "2022-04-23T22:51:19.259379Z"
    },
    "papermill": {
     "duration": 0.097786,
     "end_time": "2022-04-23T22:51:19.262175",
     "exception": false,
     "start_time": "2022-04-23T22:51:19.164389",
     "status": "completed"
    },
    "tags": []
   },
   "outputs": [],
   "source": [
    "X=cleaned_data.iloc[:,:-1]\n",
    "y=cleaned_data.iloc[:,-1]"
   ]
  },
  {
   "cell_type": "code",
   "execution_count": null,
   "id": "6dceacac",
   "metadata": {
    "execution": {
     "iopub.execute_input": "2022-04-23T22:51:19.444282Z",
     "iopub.status.busy": "2022-04-23T22:51:19.443788Z",
     "iopub.status.idle": "2022-04-23T22:51:19.461637Z",
     "shell.execute_reply": "2022-04-23T22:51:19.460876Z"
    },
    "papermill": {
     "duration": 0.112249,
     "end_time": "2022-04-23T22:51:19.464432",
     "exception": false,
     "start_time": "2022-04-23T22:51:19.352183",
     "status": "completed"
    },
    "tags": []
   },
   "outputs": [],
   "source": [
    "X.head()"
   ]
  },
  {
   "cell_type": "code",
   "execution_count": null,
   "id": "0ca2adad",
   "metadata": {
    "execution": {
     "iopub.execute_input": "2022-04-23T22:51:19.647457Z",
     "iopub.status.busy": "2022-04-23T22:51:19.646925Z",
     "iopub.status.idle": "2022-04-23T22:51:19.653800Z",
     "shell.execute_reply": "2022-04-23T22:51:19.652921Z"
    },
    "papermill": {
     "duration": 0.10026,
     "end_time": "2022-04-23T22:51:19.655868",
     "exception": false,
     "start_time": "2022-04-23T22:51:19.555608",
     "status": "completed"
    },
    "tags": []
   },
   "outputs": [],
   "source": [
    "y.head()"
   ]
  },
  {
   "cell_type": "code",
   "execution_count": null,
   "id": "cf009859",
   "metadata": {
    "execution": {
     "iopub.execute_input": "2022-04-23T22:51:19.839954Z",
     "iopub.status.busy": "2022-04-23T22:51:19.839414Z",
     "iopub.status.idle": "2022-04-23T22:51:19.847883Z",
     "shell.execute_reply": "2022-04-23T22:51:19.846978Z"
    },
    "papermill": {
     "duration": 0.101545,
     "end_time": "2022-04-23T22:51:19.850348",
     "exception": false,
     "start_time": "2022-04-23T22:51:19.748803",
     "status": "completed"
    },
    "tags": []
   },
   "outputs": [],
   "source": [
    "X_train, X_test, y_train, y_test = train_test_split(X, y, test_size=0.33,stratify=y,random_state=42) \n",
    "#with stratify=True we get same proportion in our train test split as in our original dataset"
   ]
  },
  {
   "cell_type": "markdown",
   "id": "2a600695",
   "metadata": {
    "papermill": {
     "duration": 0.089626,
     "end_time": "2022-04-23T22:51:20.030813",
     "exception": false,
     "start_time": "2022-04-23T22:51:19.941187",
     "status": "completed"
    },
    "tags": []
   },
   "source": [
    "# Classification Models"
   ]
  },
  {
   "cell_type": "code",
   "execution_count": 6,
   "id": "116f8585",
   "metadata": {
    "execution": {
     "iopub.execute_input": "2022-04-23T22:51:20.211379Z",
     "iopub.status.busy": "2022-04-23T22:51:20.210425Z",
     "iopub.status.idle": "2022-04-23T22:51:21.825673Z",
     "shell.execute_reply": "2022-04-23T22:51:21.824891Z"
    },
    "papermill": {
     "duration": 1.708209,
     "end_time": "2022-04-23T22:51:21.828175",
     "exception": false,
     "start_time": "2022-04-23T22:51:20.119966",
     "status": "completed"
    },
    "tags": []
   },
   "outputs": [
    {
     "ename": "NameError",
     "evalue": "name 'X_train' is not defined",
     "output_type": "error",
     "traceback": [
      "\u001b[1;31m---------------------------------------------------------------------------\u001b[0m",
      "\u001b[1;31mNameError\u001b[0m                                 Traceback (most recent call last)",
      "\u001b[1;32m~\\AppData\\Local\\Temp/ipykernel_12640/4218915920.py\u001b[0m in \u001b[0;36m<module>\u001b[1;34m\u001b[0m\n\u001b[1;32m----> 1\u001b[1;33m \u001b[0mlj\u001b[0m \u001b[1;33m=\u001b[0m \u001b[0mLogisticRegression\u001b[0m\u001b[1;33m(\u001b[0m\u001b[0msolver\u001b[0m\u001b[1;33m=\u001b[0m\u001b[1;34m\"liblinear\"\u001b[0m\u001b[1;33m)\u001b[0m\u001b[1;33m.\u001b[0m\u001b[0mfit\u001b[0m\u001b[1;33m(\u001b[0m\u001b[0mX_train\u001b[0m\u001b[1;33m,\u001b[0m\u001b[0my_train\u001b[0m\u001b[1;33m)\u001b[0m\u001b[1;33m\u001b[0m\u001b[1;33m\u001b[0m\u001b[0m\n\u001b[0m\u001b[0;32m      2\u001b[0m \u001b[0mgnb\u001b[0m \u001b[1;33m=\u001b[0m \u001b[0mGaussianNB\u001b[0m\u001b[1;33m(\u001b[0m\u001b[1;33m)\u001b[0m\u001b[1;33m.\u001b[0m\u001b[0mfit\u001b[0m\u001b[1;33m(\u001b[0m\u001b[0mX_train\u001b[0m\u001b[1;33m,\u001b[0m\u001b[0my_train\u001b[0m\u001b[1;33m)\u001b[0m\u001b[1;33m\u001b[0m\u001b[1;33m\u001b[0m\u001b[0m\n\u001b[0;32m      3\u001b[0m \u001b[0mknnc\u001b[0m \u001b[1;33m=\u001b[0m \u001b[0mKNeighborsClassifier\u001b[0m\u001b[1;33m(\u001b[0m\u001b[1;33m)\u001b[0m\u001b[1;33m.\u001b[0m\u001b[0mfit\u001b[0m\u001b[1;33m(\u001b[0m\u001b[0mX_train\u001b[0m\u001b[1;33m,\u001b[0m\u001b[0my_train\u001b[0m\u001b[1;33m)\u001b[0m\u001b[1;33m\u001b[0m\u001b[1;33m\u001b[0m\u001b[0m\n\u001b[0;32m      4\u001b[0m \u001b[0mcartc\u001b[0m \u001b[1;33m=\u001b[0m \u001b[0mDecisionTreeClassifier\u001b[0m\u001b[1;33m(\u001b[0m\u001b[0mrandom_state\u001b[0m\u001b[1;33m=\u001b[0m\u001b[1;36m42\u001b[0m\u001b[1;33m)\u001b[0m\u001b[1;33m.\u001b[0m\u001b[0mfit\u001b[0m\u001b[1;33m(\u001b[0m\u001b[0mX_train\u001b[0m\u001b[1;33m,\u001b[0m\u001b[0my_train\u001b[0m\u001b[1;33m)\u001b[0m\u001b[1;33m\u001b[0m\u001b[1;33m\u001b[0m\u001b[0m\n\u001b[0;32m      5\u001b[0m \u001b[0mrfc\u001b[0m \u001b[1;33m=\u001b[0m \u001b[0mRandomForestClassifier\u001b[0m\u001b[1;33m(\u001b[0m\u001b[0mrandom_state\u001b[0m\u001b[1;33m=\u001b[0m\u001b[1;36m42\u001b[0m\u001b[1;33m,\u001b[0m\u001b[0mverbose\u001b[0m\u001b[1;33m=\u001b[0m\u001b[1;32mFalse\u001b[0m\u001b[1;33m)\u001b[0m\u001b[1;33m.\u001b[0m\u001b[0mfit\u001b[0m\u001b[1;33m(\u001b[0m\u001b[0mX_train\u001b[0m\u001b[1;33m,\u001b[0m\u001b[0my_train\u001b[0m\u001b[1;33m)\u001b[0m\u001b[1;33m\u001b[0m\u001b[1;33m\u001b[0m\u001b[0m\n",
      "\u001b[1;31mNameError\u001b[0m: name 'X_train' is not defined"
     ]
    }
   ],
   "source": [
    "lj = LogisticRegression(solver=\"liblinear\").fit(X_train,y_train)\n",
    "gnb = GaussianNB().fit(X_train,y_train)\n",
    "knnc = KNeighborsClassifier().fit(X_train,y_train)\n",
    "cartc = DecisionTreeClassifier(random_state=42).fit(X_train,y_train)\n",
    "rfc = RandomForestClassifier(random_state=42,verbose=False).fit(X_train,y_train)\n",
    "gbmc = GradientBoostingClassifier(verbose=False).fit(X_train,y_train)\n",
    "catbc = CatBoostClassifier(verbose=False).fit(X_train,y_train)"
   ]
  },
  {
   "cell_type": "code",
   "execution_count": null,
   "id": "8e7b332b",
   "metadata": {
    "execution": {
     "iopub.execute_input": "2022-04-23T22:51:22.015284Z",
     "iopub.status.busy": "2022-04-23T22:51:22.014851Z",
     "iopub.status.idle": "2022-04-23T22:51:47.636252Z",
     "shell.execute_reply": "2022-04-23T22:51:47.634835Z"
    },
    "papermill": {
     "duration": 25.7193,
     "end_time": "2022-04-23T22:51:47.638658",
     "exception": false,
     "start_time": "2022-04-23T22:51:21.919358",
     "status": "completed"
    },
    "tags": []
   },
   "outputs": [],
   "source": [
    "modelsc = [lj,gnb,knnc,cartc,rfc,gbmc,catbc]\n",
    "for model in modelsc:\n",
    "    name = model.__class__.__name__\n",
    "    predict = model.predict(X_test)\n",
    "    R2CV = cross_val_score(model,X_test,y_test,cv=10,verbose=False).mean()\n",
    "    error = -cross_val_score(model,X_test,y_test,cv=10,scoring=\"neg_mean_squared_error\",verbose=False).mean()\n",
    "    roc = roc_curve(y_test,predict)\n",
    "    print(name + \": \")\n",
    "    print(\"-\" * 10)\n",
    "    print(\"ACC-->\",accuracy_score(y_test,predict))\n",
    "    print(\"R2CV-->\",R2CV)\n",
    "    print(\"MEAN SQUARED ERROR-->\",np.sqrt(error))\n",
    "    print(\"ROC-->\",roc)\n",
    "    print(\"-\" * 30)\n"
   ]
  },
  {
   "cell_type": "markdown",
   "id": "098271c7",
   "metadata": {
    "papermill": {
     "duration": 0.090877,
     "end_time": "2022-04-23T22:51:47.820644",
     "exception": false,
     "start_time": "2022-04-23T22:51:47.729767",
     "status": "completed"
    },
    "tags": []
   },
   "source": [
    "best model is CatBoostClassifier"
   ]
  },
  {
   "cell_type": "code",
   "execution_count": null,
   "id": "30d79e59",
   "metadata": {
    "papermill": {
     "duration": 0.092989,
     "end_time": "2022-04-23T22:51:48.005002",
     "exception": false,
     "start_time": "2022-04-23T22:51:47.912013",
     "status": "completed"
    },
    "tags": []
   },
   "outputs": [],
   "source": []
  }
 ],
 "metadata": {
  "kernelspec": {
   "display_name": "Python 3 (ipykernel)",
   "language": "python",
   "name": "python3"
  },
  "language_info": {
   "codemirror_mode": {
    "name": "ipython",
    "version": 3
   },
   "file_extension": ".py",
   "mimetype": "text/x-python",
   "name": "python",
   "nbconvert_exporter": "python",
   "pygments_lexer": "ipython3",
   "version": "3.7.11"
  },
  "papermill": {
   "default_parameters": {},
   "duration": 57.920605,
   "end_time": "2022-04-23T22:51:49.020317",
   "environment_variables": {},
   "exception": null,
   "input_path": "__notebook__.ipynb",
   "output_path": "__notebook__.ipynb",
   "parameters": {},
   "start_time": "2022-04-23T22:50:51.099712",
   "version": "2.3.4"
  }
 },
 "nbformat": 4,
 "nbformat_minor": 5
}
