{
 "cells": [
  {
   "cell_type": "markdown",
   "id": "45f0b2b9",
   "metadata": {
    "_cell_guid": "b1076dfc-b9ad-4769-8c92-a6c4dae69d19",
    "_uuid": "8f2839f25d086af736a60e9eeb907d3b93b6e0e5",
    "papermill": {
     "duration": 0.061628,
     "end_time": "2022-04-23T22:51:01.076322",
     "exception": false,
     "start_time": "2022-04-23T22:51:01.014694",
     "status": "completed"
    },
    "tags": []
   },
   "source": [
    "# Import Libraries"
   ]
  },
  {
   "cell_type": "code",
   "execution_count": 13,
   "id": "c9d6b299",
   "metadata": {
    "execution": {
     "iopub.execute_input": "2022-04-23T22:51:01.202239Z",
     "iopub.status.busy": "2022-04-23T22:51:01.201520Z",
     "iopub.status.idle": "2022-04-23T22:51:03.904674Z",
     "shell.execute_reply": "2022-04-23T22:51:03.903945Z"
    },
    "papermill": {
     "duration": 2.76969,
     "end_time": "2022-04-23T22:51:03.907137",
     "exception": false,
     "start_time": "2022-04-23T22:51:01.137447",
     "status": "completed"
    },
    "tags": []
   },
   "outputs": [],
   "source": [
    "import numpy as np # linear algebra\n",
    "import pandas as pd # data processing, CSV file I/O (e.g. pd.read_csv), data manipulation as in SQL\n",
    "import matplotlib.pyplot as plt # this is used for the plot the graph \n",
    "import seaborn as sns # used for plot interactive graph. I like it most for plot\n",
    "%matplotlib inline\n",
    "from sklearn.impute import KNNImputer\n",
    "from sklearn.linear_model import LogisticRegression # to apply the Logistic regression\n",
    "from sklearn.model_selection import train_test_split # to split the data into two parts\n",
    "from sklearn.model_selection import KFold # use for cross validation\n",
    "from sklearn.model_selection import GridSearchCV# for tuning parameter\n",
    "from sklearn.ensemble import RandomForestClassifier # for random forest classifier\n",
    "from sklearn.naive_bayes import GaussianNB\n",
    "from sklearn.neighbors import KNeighborsClassifier\n",
    "from sklearn.tree import DecisionTreeClassifier\n",
    "from sklearn.ensemble import GradientBoostingRegressor, GradientBoostingClassifier\n",
    "from xgboost import XGBRegressor, XGBClassifier\n",
    "from lightgbm import LGBMRegressor, LGBMClassifier\n",
    "from catboost import CatBoostRegressor, CatBoostClassifier\n",
    "from sklearn import svm # for Support Vector Machine\n",
    "from sklearn import metrics # for the check the error and accuracy of the model\n",
    "from sklearn.model_selection import train_test_split, cross_val_score, cross_val_predict\n",
    "from sklearn.metrics import confusion_matrix, accuracy_score, classification_report, roc_auc_score, roc_curve\n",
    "import pickle\n",
    "# Any results you write to the current directory are saved as output.\n",
    "# dont worry about the error if its not working then insteda of model_selection we can use cross_validation"
   ]
  },
  {
   "cell_type": "markdown",
   "id": "c20a6539",
   "metadata": {
    "papermill": {
     "duration": 0.061187,
     "end_time": "2022-04-23T22:51:04.031021",
     "exception": false,
     "start_time": "2022-04-23T22:51:03.969834",
     "status": "completed"
    },
    "tags": []
   },
   "source": [
    "# Dataset Description\n",
    "The data is taken from \"https://www.kaggle.com/mathchi/diabetes-data-set\"\n",
    "\n",
    "This dataset is originally from the National Institute of Diabetes and Digestive and Kidney Diseases.All the patients here are female 21 years or older.It contains the following columns:\n",
    "\n",
    "Pregnancies: Number of times pregnant\n",
    "Glucose: Plasma glucose concentration a 2 hours in an oral glucose tolerance test\n",
    "BloodPressure: Diastolic blood pressure (mm Hg)\n",
    "SkinThickness: Triceps skin fold thickness (mm)\n",
    "Insulin: 2-Hour serum insulin (mu U/ml)\n",
    "BMI: Body mass index (weight in kg/(height in m)^2)\n",
    "DiabetesPedigreeFunction: Diabetes pedigree function\n",
    "Age: Age (years)\n",
    "Outcome: Class variable (0 or 1)"
   ]
  },
  {
   "cell_type": "markdown",
   "id": "022ba1da",
   "metadata": {
    "papermill": {
     "duration": 0.062141,
     "end_time": "2022-04-23T22:51:04.156284",
     "exception": false,
     "start_time": "2022-04-23T22:51:04.094143",
     "status": "completed"
    },
    "tags": []
   },
   "source": [
    "# Objectives\n",
    "Clean the data and deal with missing values \n",
    "\n",
    "Perform EDA to get a better understanding of underlying trends\n",
    "\n",
    "Fit different models and tune their hyperparameter for best performance"
   ]
  },
  {
   "cell_type": "markdown",
   "id": "faa5062e",
   "metadata": {
    "papermill": {
     "duration": 0.063917,
     "end_time": "2022-04-23T22:51:04.282656",
     "exception": false,
     "start_time": "2022-04-23T22:51:04.218739",
     "status": "completed"
    },
    "tags": []
   },
   "source": [
    "# Data Cleaning"
   ]
  },
  {
   "cell_type": "code",
   "execution_count": 14,
   "id": "f696f4d5",
   "metadata": {
    "execution": {
     "iopub.execute_input": "2022-04-23T22:51:04.408426Z",
     "iopub.status.busy": "2022-04-23T22:51:04.407651Z",
     "iopub.status.idle": "2022-04-23T22:51:04.429817Z",
     "shell.execute_reply": "2022-04-23T22:51:04.428943Z"
    },
    "papermill": {
     "duration": 0.08832,
     "end_time": "2022-04-23T22:51:04.432233",
     "exception": false,
     "start_time": "2022-04-23T22:51:04.343913",
     "status": "completed"
    },
    "tags": []
   },
   "outputs": [],
   "source": [
    "data=pd.read_csv('diabetes.csv')"
   ]
  },
  {
   "cell_type": "code",
   "execution_count": 15,
   "id": "11dd3cc8",
   "metadata": {
    "execution": {
     "iopub.execute_input": "2022-04-23T22:51:04.555206Z",
     "iopub.status.busy": "2022-04-23T22:51:04.554728Z",
     "iopub.status.idle": "2022-04-23T22:51:04.576646Z",
     "shell.execute_reply": "2022-04-23T22:51:04.575623Z"
    },
    "papermill": {
     "duration": 0.085866,
     "end_time": "2022-04-23T22:51:04.578960",
     "exception": false,
     "start_time": "2022-04-23T22:51:04.493094",
     "status": "completed"
    },
    "tags": []
   },
   "outputs": [
    {
     "data": {
      "text/html": [
       "<div>\n",
       "<style scoped>\n",
       "    .dataframe tbody tr th:only-of-type {\n",
       "        vertical-align: middle;\n",
       "    }\n",
       "\n",
       "    .dataframe tbody tr th {\n",
       "        vertical-align: top;\n",
       "    }\n",
       "\n",
       "    .dataframe thead th {\n",
       "        text-align: right;\n",
       "    }\n",
       "</style>\n",
       "<table border=\"1\" class=\"dataframe\">\n",
       "  <thead>\n",
       "    <tr style=\"text-align: right;\">\n",
       "      <th></th>\n",
       "      <th>Pregnancies</th>\n",
       "      <th>Glucose</th>\n",
       "      <th>BloodPressure</th>\n",
       "      <th>SkinThickness</th>\n",
       "      <th>Insulin</th>\n",
       "      <th>BMI</th>\n",
       "      <th>DiabetesPedigreeFunction</th>\n",
       "      <th>Age</th>\n",
       "      <th>Outcome</th>\n",
       "    </tr>\n",
       "  </thead>\n",
       "  <tbody>\n",
       "    <tr>\n",
       "      <th>0</th>\n",
       "      <td>6</td>\n",
       "      <td>148</td>\n",
       "      <td>72</td>\n",
       "      <td>35</td>\n",
       "      <td>0</td>\n",
       "      <td>33.6</td>\n",
       "      <td>0.627</td>\n",
       "      <td>50</td>\n",
       "      <td>1</td>\n",
       "    </tr>\n",
       "    <tr>\n",
       "      <th>1</th>\n",
       "      <td>1</td>\n",
       "      <td>85</td>\n",
       "      <td>66</td>\n",
       "      <td>29</td>\n",
       "      <td>0</td>\n",
       "      <td>26.6</td>\n",
       "      <td>0.351</td>\n",
       "      <td>31</td>\n",
       "      <td>0</td>\n",
       "    </tr>\n",
       "    <tr>\n",
       "      <th>2</th>\n",
       "      <td>8</td>\n",
       "      <td>183</td>\n",
       "      <td>64</td>\n",
       "      <td>0</td>\n",
       "      <td>0</td>\n",
       "      <td>23.3</td>\n",
       "      <td>0.672</td>\n",
       "      <td>32</td>\n",
       "      <td>1</td>\n",
       "    </tr>\n",
       "    <tr>\n",
       "      <th>3</th>\n",
       "      <td>1</td>\n",
       "      <td>89</td>\n",
       "      <td>66</td>\n",
       "      <td>23</td>\n",
       "      <td>94</td>\n",
       "      <td>28.1</td>\n",
       "      <td>0.167</td>\n",
       "      <td>21</td>\n",
       "      <td>0</td>\n",
       "    </tr>\n",
       "    <tr>\n",
       "      <th>4</th>\n",
       "      <td>0</td>\n",
       "      <td>137</td>\n",
       "      <td>40</td>\n",
       "      <td>35</td>\n",
       "      <td>168</td>\n",
       "      <td>43.1</td>\n",
       "      <td>2.288</td>\n",
       "      <td>33</td>\n",
       "      <td>1</td>\n",
       "    </tr>\n",
       "    <tr>\n",
       "      <th>5</th>\n",
       "      <td>5</td>\n",
       "      <td>116</td>\n",
       "      <td>74</td>\n",
       "      <td>0</td>\n",
       "      <td>0</td>\n",
       "      <td>25.6</td>\n",
       "      <td>0.201</td>\n",
       "      <td>30</td>\n",
       "      <td>0</td>\n",
       "    </tr>\n",
       "    <tr>\n",
       "      <th>6</th>\n",
       "      <td>3</td>\n",
       "      <td>78</td>\n",
       "      <td>50</td>\n",
       "      <td>32</td>\n",
       "      <td>88</td>\n",
       "      <td>31.0</td>\n",
       "      <td>0.248</td>\n",
       "      <td>26</td>\n",
       "      <td>1</td>\n",
       "    </tr>\n",
       "    <tr>\n",
       "      <th>7</th>\n",
       "      <td>10</td>\n",
       "      <td>115</td>\n",
       "      <td>0</td>\n",
       "      <td>0</td>\n",
       "      <td>0</td>\n",
       "      <td>35.3</td>\n",
       "      <td>0.134</td>\n",
       "      <td>29</td>\n",
       "      <td>0</td>\n",
       "    </tr>\n",
       "    <tr>\n",
       "      <th>8</th>\n",
       "      <td>2</td>\n",
       "      <td>197</td>\n",
       "      <td>70</td>\n",
       "      <td>45</td>\n",
       "      <td>543</td>\n",
       "      <td>30.5</td>\n",
       "      <td>0.158</td>\n",
       "      <td>53</td>\n",
       "      <td>1</td>\n",
       "    </tr>\n",
       "    <tr>\n",
       "      <th>9</th>\n",
       "      <td>8</td>\n",
       "      <td>125</td>\n",
       "      <td>96</td>\n",
       "      <td>0</td>\n",
       "      <td>0</td>\n",
       "      <td>0.0</td>\n",
       "      <td>0.232</td>\n",
       "      <td>54</td>\n",
       "      <td>1</td>\n",
       "    </tr>\n",
       "  </tbody>\n",
       "</table>\n",
       "</div>"
      ],
      "text/plain": [
       "   Pregnancies  Glucose  BloodPressure  SkinThickness  Insulin   BMI  \\\n",
       "0            6      148             72             35        0  33.6   \n",
       "1            1       85             66             29        0  26.6   \n",
       "2            8      183             64              0        0  23.3   \n",
       "3            1       89             66             23       94  28.1   \n",
       "4            0      137             40             35      168  43.1   \n",
       "5            5      116             74              0        0  25.6   \n",
       "6            3       78             50             32       88  31.0   \n",
       "7           10      115              0              0        0  35.3   \n",
       "8            2      197             70             45      543  30.5   \n",
       "9            8      125             96              0        0   0.0   \n",
       "\n",
       "   DiabetesPedigreeFunction  Age  Outcome  \n",
       "0                     0.627   50        1  \n",
       "1                     0.351   31        0  \n",
       "2                     0.672   32        1  \n",
       "3                     0.167   21        0  \n",
       "4                     2.288   33        1  \n",
       "5                     0.201   30        0  \n",
       "6                     0.248   26        1  \n",
       "7                     0.134   29        0  \n",
       "8                     0.158   53        1  \n",
       "9                     0.232   54        1  "
      ]
     },
     "execution_count": 15,
     "metadata": {},
     "output_type": "execute_result"
    }
   ],
   "source": [
    "data.head(10)"
   ]
  },
  {
   "cell_type": "code",
   "execution_count": 16,
   "id": "2bb0a987",
   "metadata": {
    "execution": {
     "iopub.execute_input": "2022-04-23T22:51:04.704160Z",
     "iopub.status.busy": "2022-04-23T22:51:04.703861Z",
     "iopub.status.idle": "2022-04-23T22:51:04.727198Z",
     "shell.execute_reply": "2022-04-23T22:51:04.726519Z"
    },
    "papermill": {
     "duration": 0.088822,
     "end_time": "2022-04-23T22:51:04.729937",
     "exception": false,
     "start_time": "2022-04-23T22:51:04.641115",
     "status": "completed"
    },
    "tags": []
   },
   "outputs": [
    {
     "name": "stdout",
     "output_type": "stream",
     "text": [
      "<class 'pandas.core.frame.DataFrame'>\n",
      "RangeIndex: 768 entries, 0 to 767\n",
      "Data columns (total 9 columns):\n",
      " #   Column                    Non-Null Count  Dtype  \n",
      "---  ------                    --------------  -----  \n",
      " 0   Pregnancies               768 non-null    int64  \n",
      " 1   Glucose                   768 non-null    int64  \n",
      " 2   BloodPressure             768 non-null    int64  \n",
      " 3   SkinThickness             768 non-null    int64  \n",
      " 4   Insulin                   768 non-null    int64  \n",
      " 5   BMI                       768 non-null    float64\n",
      " 6   DiabetesPedigreeFunction  768 non-null    float64\n",
      " 7   Age                       768 non-null    int64  \n",
      " 8   Outcome                   768 non-null    int64  \n",
      "dtypes: float64(2), int64(7)\n",
      "memory usage: 54.1 KB\n"
     ]
    }
   ],
   "source": [
    "data.info()"
   ]
  },
  {
   "cell_type": "code",
   "execution_count": 17,
   "id": "2038e145",
   "metadata": {
    "execution": {
     "iopub.execute_input": "2022-04-23T22:51:04.858139Z",
     "iopub.status.busy": "2022-04-23T22:51:04.857817Z",
     "iopub.status.idle": "2022-04-23T22:51:04.866556Z",
     "shell.execute_reply": "2022-04-23T22:51:04.865676Z"
    },
    "papermill": {
     "duration": 0.074301,
     "end_time": "2022-04-23T22:51:04.868812",
     "exception": false,
     "start_time": "2022-04-23T22:51:04.794511",
     "status": "completed"
    },
    "tags": []
   },
   "outputs": [
    {
     "data": {
      "text/plain": [
       "Pregnancies                 0\n",
       "Glucose                     0\n",
       "BloodPressure               0\n",
       "SkinThickness               0\n",
       "Insulin                     0\n",
       "BMI                         0\n",
       "DiabetesPedigreeFunction    0\n",
       "Age                         0\n",
       "Outcome                     0\n",
       "dtype: int64"
      ]
     },
     "execution_count": 17,
     "metadata": {},
     "output_type": "execute_result"
    }
   ],
   "source": [
    "data.isnull().sum()"
   ]
  },
  {
   "cell_type": "code",
   "execution_count": 18,
   "id": "ba4dbbf5",
   "metadata": {
    "execution": {
     "iopub.execute_input": "2022-04-23T22:51:04.997348Z",
     "iopub.status.busy": "2022-04-23T22:51:04.997008Z",
     "iopub.status.idle": "2022-04-23T22:51:05.006583Z",
     "shell.execute_reply": "2022-04-23T22:51:05.005822Z"
    },
    "papermill": {
     "duration": 0.07581,
     "end_time": "2022-04-23T22:51:05.008640",
     "exception": false,
     "start_time": "2022-04-23T22:51:04.932830",
     "status": "completed"
    },
    "tags": []
   },
   "outputs": [
    {
     "data": {
      "text/plain": [
       "0"
      ]
     },
     "execution_count": 18,
     "metadata": {},
     "output_type": "execute_result"
    }
   ],
   "source": [
    "data.duplicated().sum()"
   ]
  },
  {
   "cell_type": "code",
   "execution_count": 19,
   "id": "8cbb095e",
   "metadata": {
    "execution": {
     "iopub.execute_input": "2022-04-23T22:51:05.135288Z",
     "iopub.status.busy": "2022-04-23T22:51:05.134976Z",
     "iopub.status.idle": "2022-04-23T22:51:05.182871Z",
     "shell.execute_reply": "2022-04-23T22:51:05.181760Z"
    },
    "papermill": {
     "duration": 0.114251,
     "end_time": "2022-04-23T22:51:05.185584",
     "exception": false,
     "start_time": "2022-04-23T22:51:05.071333",
     "status": "completed"
    },
    "tags": []
   },
   "outputs": [
    {
     "data": {
      "text/html": [
       "<div>\n",
       "<style scoped>\n",
       "    .dataframe tbody tr th:only-of-type {\n",
       "        vertical-align: middle;\n",
       "    }\n",
       "\n",
       "    .dataframe tbody tr th {\n",
       "        vertical-align: top;\n",
       "    }\n",
       "\n",
       "    .dataframe thead th {\n",
       "        text-align: right;\n",
       "    }\n",
       "</style>\n",
       "<table border=\"1\" class=\"dataframe\">\n",
       "  <thead>\n",
       "    <tr style=\"text-align: right;\">\n",
       "      <th></th>\n",
       "      <th>Pregnancies</th>\n",
       "      <th>Glucose</th>\n",
       "      <th>BloodPressure</th>\n",
       "      <th>SkinThickness</th>\n",
       "      <th>Insulin</th>\n",
       "      <th>BMI</th>\n",
       "      <th>DiabetesPedigreeFunction</th>\n",
       "      <th>Age</th>\n",
       "      <th>Outcome</th>\n",
       "    </tr>\n",
       "  </thead>\n",
       "  <tbody>\n",
       "    <tr>\n",
       "      <th>count</th>\n",
       "      <td>768.000000</td>\n",
       "      <td>768.000000</td>\n",
       "      <td>768.000000</td>\n",
       "      <td>768.000000</td>\n",
       "      <td>768.000000</td>\n",
       "      <td>768.000000</td>\n",
       "      <td>768.000000</td>\n",
       "      <td>768.000000</td>\n",
       "      <td>768.000000</td>\n",
       "    </tr>\n",
       "    <tr>\n",
       "      <th>mean</th>\n",
       "      <td>3.845052</td>\n",
       "      <td>120.894531</td>\n",
       "      <td>69.105469</td>\n",
       "      <td>20.536458</td>\n",
       "      <td>79.799479</td>\n",
       "      <td>31.992578</td>\n",
       "      <td>0.471876</td>\n",
       "      <td>33.240885</td>\n",
       "      <td>0.348958</td>\n",
       "    </tr>\n",
       "    <tr>\n",
       "      <th>std</th>\n",
       "      <td>3.369578</td>\n",
       "      <td>31.972618</td>\n",
       "      <td>19.355807</td>\n",
       "      <td>15.952218</td>\n",
       "      <td>115.244002</td>\n",
       "      <td>7.884160</td>\n",
       "      <td>0.331329</td>\n",
       "      <td>11.760232</td>\n",
       "      <td>0.476951</td>\n",
       "    </tr>\n",
       "    <tr>\n",
       "      <th>min</th>\n",
       "      <td>0.000000</td>\n",
       "      <td>0.000000</td>\n",
       "      <td>0.000000</td>\n",
       "      <td>0.000000</td>\n",
       "      <td>0.000000</td>\n",
       "      <td>0.000000</td>\n",
       "      <td>0.078000</td>\n",
       "      <td>21.000000</td>\n",
       "      <td>0.000000</td>\n",
       "    </tr>\n",
       "    <tr>\n",
       "      <th>25%</th>\n",
       "      <td>1.000000</td>\n",
       "      <td>99.000000</td>\n",
       "      <td>62.000000</td>\n",
       "      <td>0.000000</td>\n",
       "      <td>0.000000</td>\n",
       "      <td>27.300000</td>\n",
       "      <td>0.243750</td>\n",
       "      <td>24.000000</td>\n",
       "      <td>0.000000</td>\n",
       "    </tr>\n",
       "    <tr>\n",
       "      <th>50%</th>\n",
       "      <td>3.000000</td>\n",
       "      <td>117.000000</td>\n",
       "      <td>72.000000</td>\n",
       "      <td>23.000000</td>\n",
       "      <td>30.500000</td>\n",
       "      <td>32.000000</td>\n",
       "      <td>0.372500</td>\n",
       "      <td>29.000000</td>\n",
       "      <td>0.000000</td>\n",
       "    </tr>\n",
       "    <tr>\n",
       "      <th>75%</th>\n",
       "      <td>6.000000</td>\n",
       "      <td>140.250000</td>\n",
       "      <td>80.000000</td>\n",
       "      <td>32.000000</td>\n",
       "      <td>127.250000</td>\n",
       "      <td>36.600000</td>\n",
       "      <td>0.626250</td>\n",
       "      <td>41.000000</td>\n",
       "      <td>1.000000</td>\n",
       "    </tr>\n",
       "    <tr>\n",
       "      <th>max</th>\n",
       "      <td>17.000000</td>\n",
       "      <td>199.000000</td>\n",
       "      <td>122.000000</td>\n",
       "      <td>99.000000</td>\n",
       "      <td>846.000000</td>\n",
       "      <td>67.100000</td>\n",
       "      <td>2.420000</td>\n",
       "      <td>81.000000</td>\n",
       "      <td>1.000000</td>\n",
       "    </tr>\n",
       "  </tbody>\n",
       "</table>\n",
       "</div>"
      ],
      "text/plain": [
       "       Pregnancies     Glucose  BloodPressure  SkinThickness     Insulin  \\\n",
       "count   768.000000  768.000000     768.000000     768.000000  768.000000   \n",
       "mean      3.845052  120.894531      69.105469      20.536458   79.799479   \n",
       "std       3.369578   31.972618      19.355807      15.952218  115.244002   \n",
       "min       0.000000    0.000000       0.000000       0.000000    0.000000   \n",
       "25%       1.000000   99.000000      62.000000       0.000000    0.000000   \n",
       "50%       3.000000  117.000000      72.000000      23.000000   30.500000   \n",
       "75%       6.000000  140.250000      80.000000      32.000000  127.250000   \n",
       "max      17.000000  199.000000     122.000000      99.000000  846.000000   \n",
       "\n",
       "              BMI  DiabetesPedigreeFunction         Age     Outcome  \n",
       "count  768.000000                768.000000  768.000000  768.000000  \n",
       "mean    31.992578                  0.471876   33.240885    0.348958  \n",
       "std      7.884160                  0.331329   11.760232    0.476951  \n",
       "min      0.000000                  0.078000   21.000000    0.000000  \n",
       "25%     27.300000                  0.243750   24.000000    0.000000  \n",
       "50%     32.000000                  0.372500   29.000000    0.000000  \n",
       "75%     36.600000                  0.626250   41.000000    1.000000  \n",
       "max     67.100000                  2.420000   81.000000    1.000000  "
      ]
     },
     "execution_count": 19,
     "metadata": {},
     "output_type": "execute_result"
    }
   ],
   "source": [
    "data.describe()"
   ]
  },
  {
   "cell_type": "markdown",
   "id": "ad5cad8f",
   "metadata": {
    "papermill": {
     "duration": 0.063617,
     "end_time": "2022-04-23T22:51:05.314806",
     "exception": false,
     "start_time": "2022-04-23T22:51:05.251189",
     "status": "completed"
    },
    "tags": []
   },
   "source": [
    "### observation\n",
    "We note that minimum value for columns such as Glucose,BP,Insulin,BMI are 0 which is not possible , hence these must be missing values which are encoded as 0 We can use imputation techniques to deal with these"
   ]
  },
  {
   "cell_type": "code",
   "execution_count": 20,
   "id": "d506a8dc",
   "metadata": {
    "execution": {
     "iopub.execute_input": "2022-04-23T22:51:05.444568Z",
     "iopub.status.busy": "2022-04-23T22:51:05.444092Z",
     "iopub.status.idle": "2022-04-23T22:51:05.457961Z",
     "shell.execute_reply": "2022-04-23T22:51:05.457170Z"
    },
    "papermill": {
     "duration": 0.081576,
     "end_time": "2022-04-23T22:51:05.460420",
     "exception": false,
     "start_time": "2022-04-23T22:51:05.378844",
     "status": "completed"
    },
    "tags": []
   },
   "outputs": [],
   "source": [
    "corrupted_data=data.loc[:,'Glucose':'BMI']\n",
    "corrupted_data.replace(0,np.nan,inplace=True)\n",
    "data.loc[:,'Glucose':'BMI']=corrupted_data"
   ]
  },
  {
   "cell_type": "code",
   "execution_count": 21,
   "id": "32b3a815",
   "metadata": {
    "execution": {
     "iopub.execute_input": "2022-04-23T22:51:05.593363Z",
     "iopub.status.busy": "2022-04-23T22:51:05.592921Z",
     "iopub.status.idle": "2022-04-23T22:51:05.633672Z",
     "shell.execute_reply": "2022-04-23T22:51:05.632698Z"
    },
    "papermill": {
     "duration": 0.10872,
     "end_time": "2022-04-23T22:51:05.635732",
     "exception": false,
     "start_time": "2022-04-23T22:51:05.527012",
     "status": "completed"
    },
    "tags": []
   },
   "outputs": [
    {
     "data": {
      "text/html": [
       "<div>\n",
       "<style scoped>\n",
       "    .dataframe tbody tr th:only-of-type {\n",
       "        vertical-align: middle;\n",
       "    }\n",
       "\n",
       "    .dataframe tbody tr th {\n",
       "        vertical-align: top;\n",
       "    }\n",
       "\n",
       "    .dataframe thead th {\n",
       "        text-align: right;\n",
       "    }\n",
       "</style>\n",
       "<table border=\"1\" class=\"dataframe\">\n",
       "  <thead>\n",
       "    <tr style=\"text-align: right;\">\n",
       "      <th></th>\n",
       "      <th>Pregnancies</th>\n",
       "      <th>Glucose</th>\n",
       "      <th>BloodPressure</th>\n",
       "      <th>SkinThickness</th>\n",
       "      <th>Insulin</th>\n",
       "      <th>BMI</th>\n",
       "      <th>DiabetesPedigreeFunction</th>\n",
       "      <th>Age</th>\n",
       "      <th>Outcome</th>\n",
       "    </tr>\n",
       "  </thead>\n",
       "  <tbody>\n",
       "    <tr>\n",
       "      <th>count</th>\n",
       "      <td>768.000000</td>\n",
       "      <td>763.000000</td>\n",
       "      <td>733.000000</td>\n",
       "      <td>541.000000</td>\n",
       "      <td>394.000000</td>\n",
       "      <td>757.000000</td>\n",
       "      <td>768.000000</td>\n",
       "      <td>768.000000</td>\n",
       "      <td>768.000000</td>\n",
       "    </tr>\n",
       "    <tr>\n",
       "      <th>mean</th>\n",
       "      <td>3.845052</td>\n",
       "      <td>121.686763</td>\n",
       "      <td>72.405184</td>\n",
       "      <td>29.153420</td>\n",
       "      <td>155.548223</td>\n",
       "      <td>32.457464</td>\n",
       "      <td>0.471876</td>\n",
       "      <td>33.240885</td>\n",
       "      <td>0.348958</td>\n",
       "    </tr>\n",
       "    <tr>\n",
       "      <th>std</th>\n",
       "      <td>3.369578</td>\n",
       "      <td>30.535641</td>\n",
       "      <td>12.382158</td>\n",
       "      <td>10.476982</td>\n",
       "      <td>118.775855</td>\n",
       "      <td>6.924988</td>\n",
       "      <td>0.331329</td>\n",
       "      <td>11.760232</td>\n",
       "      <td>0.476951</td>\n",
       "    </tr>\n",
       "    <tr>\n",
       "      <th>min</th>\n",
       "      <td>0.000000</td>\n",
       "      <td>44.000000</td>\n",
       "      <td>24.000000</td>\n",
       "      <td>7.000000</td>\n",
       "      <td>14.000000</td>\n",
       "      <td>18.200000</td>\n",
       "      <td>0.078000</td>\n",
       "      <td>21.000000</td>\n",
       "      <td>0.000000</td>\n",
       "    </tr>\n",
       "    <tr>\n",
       "      <th>25%</th>\n",
       "      <td>1.000000</td>\n",
       "      <td>99.000000</td>\n",
       "      <td>64.000000</td>\n",
       "      <td>22.000000</td>\n",
       "      <td>76.250000</td>\n",
       "      <td>27.500000</td>\n",
       "      <td>0.243750</td>\n",
       "      <td>24.000000</td>\n",
       "      <td>0.000000</td>\n",
       "    </tr>\n",
       "    <tr>\n",
       "      <th>50%</th>\n",
       "      <td>3.000000</td>\n",
       "      <td>117.000000</td>\n",
       "      <td>72.000000</td>\n",
       "      <td>29.000000</td>\n",
       "      <td>125.000000</td>\n",
       "      <td>32.300000</td>\n",
       "      <td>0.372500</td>\n",
       "      <td>29.000000</td>\n",
       "      <td>0.000000</td>\n",
       "    </tr>\n",
       "    <tr>\n",
       "      <th>75%</th>\n",
       "      <td>6.000000</td>\n",
       "      <td>141.000000</td>\n",
       "      <td>80.000000</td>\n",
       "      <td>36.000000</td>\n",
       "      <td>190.000000</td>\n",
       "      <td>36.600000</td>\n",
       "      <td>0.626250</td>\n",
       "      <td>41.000000</td>\n",
       "      <td>1.000000</td>\n",
       "    </tr>\n",
       "    <tr>\n",
       "      <th>max</th>\n",
       "      <td>17.000000</td>\n",
       "      <td>199.000000</td>\n",
       "      <td>122.000000</td>\n",
       "      <td>99.000000</td>\n",
       "      <td>846.000000</td>\n",
       "      <td>67.100000</td>\n",
       "      <td>2.420000</td>\n",
       "      <td>81.000000</td>\n",
       "      <td>1.000000</td>\n",
       "    </tr>\n",
       "  </tbody>\n",
       "</table>\n",
       "</div>"
      ],
      "text/plain": [
       "       Pregnancies     Glucose  BloodPressure  SkinThickness     Insulin  \\\n",
       "count   768.000000  763.000000     733.000000     541.000000  394.000000   \n",
       "mean      3.845052  121.686763      72.405184      29.153420  155.548223   \n",
       "std       3.369578   30.535641      12.382158      10.476982  118.775855   \n",
       "min       0.000000   44.000000      24.000000       7.000000   14.000000   \n",
       "25%       1.000000   99.000000      64.000000      22.000000   76.250000   \n",
       "50%       3.000000  117.000000      72.000000      29.000000  125.000000   \n",
       "75%       6.000000  141.000000      80.000000      36.000000  190.000000   \n",
       "max      17.000000  199.000000     122.000000      99.000000  846.000000   \n",
       "\n",
       "              BMI  DiabetesPedigreeFunction         Age     Outcome  \n",
       "count  757.000000                768.000000  768.000000  768.000000  \n",
       "mean    32.457464                  0.471876   33.240885    0.348958  \n",
       "std      6.924988                  0.331329   11.760232    0.476951  \n",
       "min     18.200000                  0.078000   21.000000    0.000000  \n",
       "25%     27.500000                  0.243750   24.000000    0.000000  \n",
       "50%     32.300000                  0.372500   29.000000    0.000000  \n",
       "75%     36.600000                  0.626250   41.000000    1.000000  \n",
       "max     67.100000                  2.420000   81.000000    1.000000  "
      ]
     },
     "execution_count": 21,
     "metadata": {},
     "output_type": "execute_result"
    }
   ],
   "source": [
    "data.describe()"
   ]
  },
  {
   "cell_type": "code",
   "execution_count": 22,
   "id": "5f40119a",
   "metadata": {
    "execution": {
     "iopub.execute_input": "2022-04-23T22:51:05.766110Z",
     "iopub.status.busy": "2022-04-23T22:51:05.765697Z",
     "iopub.status.idle": "2022-04-23T22:51:05.774222Z",
     "shell.execute_reply": "2022-04-23T22:51:05.773151Z"
    },
    "papermill": {
     "duration": 0.076414,
     "end_time": "2022-04-23T22:51:05.776245",
     "exception": false,
     "start_time": "2022-04-23T22:51:05.699831",
     "status": "completed"
    },
    "tags": []
   },
   "outputs": [
    {
     "data": {
      "text/plain": [
       "Pregnancies                   0\n",
       "Glucose                       5\n",
       "BloodPressure                35\n",
       "SkinThickness               227\n",
       "Insulin                     374\n",
       "BMI                          11\n",
       "DiabetesPedigreeFunction      0\n",
       "Age                           0\n",
       "Outcome                       0\n",
       "dtype: int64"
      ]
     },
     "execution_count": 22,
     "metadata": {},
     "output_type": "execute_result"
    }
   ],
   "source": [
    "data.isnull().sum()"
   ]
  },
  {
   "cell_type": "markdown",
   "id": "1a4b87be",
   "metadata": {
    "execution": {
     "iopub.execute_input": "2022-04-21T22:35:28.290348Z",
     "iopub.status.busy": "2022-04-21T22:35:28.290032Z",
     "iopub.status.idle": "2022-04-21T22:35:28.297085Z",
     "shell.execute_reply": "2022-04-21T22:35:28.295864Z",
     "shell.execute_reply.started": "2022-04-21T22:35:28.290316Z"
    },
    "papermill": {
     "duration": 0.063732,
     "end_time": "2022-04-23T22:51:05.903885",
     "exception": false,
     "start_time": "2022-04-23T22:51:05.840153",
     "status": "completed"
    },
    "tags": []
   },
   "source": [
    "Lets observe these missing values more closely and find out if their is any relation"
   ]
  },
  {
   "cell_type": "code",
   "execution_count": 27,
   "id": "62d9c073",
   "metadata": {
    "execution": {
     "iopub.execute_input": "2022-04-23T22:51:06.034941Z",
     "iopub.status.busy": "2022-04-23T22:51:06.034530Z",
     "iopub.status.idle": "2022-04-23T22:51:06.044156Z",
     "shell.execute_reply": "2022-04-23T22:51:06.043454Z"
    },
    "papermill": {
     "duration": 0.077916,
     "end_time": "2022-04-23T22:51:06.046690",
     "exception": false,
     "start_time": "2022-04-23T22:51:05.968774",
     "status": "completed"
    },
    "tags": []
   },
   "outputs": [],
   "source": [
    "import missingno as msno"
   ]
  },
  {
   "cell_type": "code",
   "execution_count": 28,
   "id": "c9e42daa",
   "metadata": {
    "execution": {
     "iopub.execute_input": "2022-04-23T22:51:06.178213Z",
     "iopub.status.busy": "2022-04-23T22:51:06.177803Z",
     "iopub.status.idle": "2022-04-23T22:51:07.344174Z",
     "shell.execute_reply": "2022-04-23T22:51:07.343403Z"
    },
    "papermill": {
     "duration": 1.234981,
     "end_time": "2022-04-23T22:51:07.346375",
     "exception": false,
     "start_time": "2022-04-23T22:51:06.111394",
     "status": "completed"
    },
    "tags": []
   },
   "outputs": [
    {
     "data": {
      "text/plain": [
       "<AxesSubplot:>"
      ]
     },
     "execution_count": 28,
     "metadata": {},
     "output_type": "execute_result"
    },
    {
     "data": {
      "image/png": "[encoded data removed]",
      "text/plain": [
       "<Figure size 1800x720 with 3 Axes>"
      ]
     },
     "metadata": {
      "needs_background": "light"
     },
     "output_type": "display_data"
    }
   ],
   "source": [
    "msno.bar(data)"
   ]
  },
  {
   "cell_type": "code",
   "execution_count": 29,
   "id": "f19d002b",
   "metadata": {
    "execution": {
     "iopub.execute_input": "2022-04-23T22:51:07.485356Z",
     "iopub.status.busy": "2022-04-23T22:51:07.484811Z",
     "iopub.status.idle": "2022-04-23T22:51:08.091686Z",
     "shell.execute_reply": "2022-04-23T22:51:08.090805Z"
    },
    "papermill": {
     "duration": 0.678749,
     "end_time": "2022-04-23T22:51:08.093847",
     "exception": false,
     "start_time": "2022-04-23T22:51:07.415098",
     "status": "completed"
    },
    "tags": []
   },
   "outputs": [
    {
     "data": {
      "text/plain": [
       "<AxesSubplot:>"
      ]
     },
     "execution_count": 29,
     "metadata": {},
     "output_type": "execute_result"
    },
    {
     "data": {
      "image/png": "[encoded data removed]",
      "text/plain": [
       "<Figure size 1800x720 with 2 Axes>"
      ]
     },
     "metadata": {
      "needs_background": "light"
     },
     "output_type": "display_data"
    }
   ],
   "source": [
    "msno.matrix(data)"
   ]
  },
  {
   "cell_type": "code",
   "execution_count": 30,
   "id": "fa0ce742",
   "metadata": {
    "execution": {
     "iopub.execute_input": "2022-04-23T22:51:08.234848Z",
     "iopub.status.busy": "2022-04-23T22:51:08.234266Z",
     "iopub.status.idle": "2022-04-23T22:51:08.810941Z",
     "shell.execute_reply": "2022-04-23T22:51:08.809862Z"
    },
    "papermill": {
     "duration": 0.650219,
     "end_time": "2022-04-23T22:51:08.813678",
     "exception": false,
     "start_time": "2022-04-23T22:51:08.163459",
     "status": "completed"
    },
    "tags": []
   },
   "outputs": [
    {
     "data": {
      "text/plain": [
       "<AxesSubplot:>"
      ]
     },
     "execution_count": 30,
     "metadata": {},
     "output_type": "execute_result"
    },
    {
     "data": {
      "image/png": "[encoded data removed]",
      "text/plain": [
       "<Figure size 1800x720 with 2 Axes>"
      ]
     },
     "metadata": {
      "needs_background": "light"
     },
     "output_type": "display_data"
    }
   ],
   "source": [
    "msno.matrix(data.sort_values(by=\"Insulin\"))"
   ]
  },
  {
   "cell_type": "markdown",
   "id": "28fdeff0",
   "metadata": {
    "papermill": {
     "duration": 0.071192,
     "end_time": "2022-04-23T22:51:08.956595",
     "exception": false,
     "start_time": "2022-04-23T22:51:08.885403",
     "status": "completed"
    },
    "tags": []
   },
   "source": [
    "Looking at the above matrix we can figure out that glucose and BMI are MCAR(Missing completely at random) and insulin , SkinThickness are MNAR(Missing not at random)"
   ]
  },
  {
   "cell_type": "code",
   "execution_count": 31,
   "id": "ef172e06",
   "metadata": {
    "execution": {
     "iopub.execute_input": "2022-04-23T22:51:09.103781Z",
     "iopub.status.busy": "2022-04-23T22:51:09.103510Z",
     "iopub.status.idle": "2022-04-23T22:51:09.547988Z",
     "shell.execute_reply": "2022-04-23T22:51:09.546891Z"
    },
    "papermill": {
     "duration": 0.520728,
     "end_time": "2022-04-23T22:51:09.550234",
     "exception": false,
     "start_time": "2022-04-23T22:51:09.029506",
     "status": "completed"
    },
    "tags": []
   },
   "outputs": [
    {
     "data": {
      "text/plain": [
       "<AxesSubplot:>"
      ]
     },
     "execution_count": 31,
     "metadata": {},
     "output_type": "execute_result"
    },
    {
     "data": {
      "image/png": "[encoded data removed]",
      "text/plain": [
       "<Figure size 1440x864 with 2 Axes>"
      ]
     },
     "metadata": {
      "needs_background": "light"
     },
     "output_type": "display_data"
    }
   ],
   "source": [
    "msno.heatmap(data)"
   ]
  },
  {
   "cell_type": "markdown",
   "id": "9b836656",
   "metadata": {
    "papermill": {
     "duration": 0.072842,
     "end_time": "2022-04-23T22:51:09.696432",
     "exception": false,
     "start_time": "2022-04-23T22:51:09.623590",
     "status": "completed"
    },
    "tags": []
   },
   "source": [
    "We can see heavy correlation between SkinThickness and Insulin\n"
   ]
  },
  {
   "cell_type": "code",
   "execution_count": 32,
   "id": "dc5304ea",
   "metadata": {
    "execution": {
     "iopub.execute_input": "2022-04-23T22:51:09.848375Z",
     "iopub.status.busy": "2022-04-23T22:51:09.848044Z",
     "iopub.status.idle": "2022-04-23T22:51:09.855809Z",
     "shell.execute_reply": "2022-04-23T22:51:09.854917Z"
    },
    "papermill": {
     "duration": 0.084929,
     "end_time": "2022-04-23T22:51:09.857912",
     "exception": false,
     "start_time": "2022-04-23T22:51:09.772983",
     "status": "completed"
    },
    "tags": []
   },
   "outputs": [],
   "source": [
    "# drop rows having missing values for Glucose or BMI\n",
    "data.dropna(subset=['Glucose','BMI'],inplace=True)"
   ]
  },
  {
   "cell_type": "code",
   "execution_count": 33,
   "id": "439c0ad5",
   "metadata": {
    "execution": {
     "iopub.execute_input": "2022-04-23T22:51:10.006855Z",
     "iopub.status.busy": "2022-04-23T22:51:10.006287Z",
     "iopub.status.idle": "2022-04-23T22:51:10.057529Z",
     "shell.execute_reply": "2022-04-23T22:51:10.056369Z"
    },
    "papermill": {
     "duration": 0.129041,
     "end_time": "2022-04-23T22:51:10.061274",
     "exception": false,
     "start_time": "2022-04-23T22:51:09.932233",
     "status": "completed"
    },
    "tags": []
   },
   "outputs": [],
   "source": [
    "data_knn=data.copy()\n",
    "knn_imputer=KNNImputer(n_neighbors=5)\n",
    "data_knn.iloc[:]=knn_imputer.fit_transform(data_knn)"
   ]
  },
  {
   "cell_type": "markdown",
   "id": "112c8730",
   "metadata": {
    "papermill": {
     "duration": 0.073268,
     "end_time": "2022-04-23T22:51:10.248005",
     "exception": false,
     "start_time": "2022-04-23T22:51:10.174737",
     "status": "completed"
    },
    "tags": []
   },
   "source": [
    "Using knnimputer we fill the missing values without impacting the variability of the dataset\n"
   ]
  },
  {
   "cell_type": "code",
   "execution_count": 34,
   "id": "4c32d751",
   "metadata": {
    "execution": {
     "iopub.execute_input": "2022-04-23T22:51:10.395068Z",
     "iopub.status.busy": "2022-04-23T22:51:10.394740Z",
     "iopub.status.idle": "2022-04-23T22:51:10.436415Z",
     "shell.execute_reply": "2022-04-23T22:51:10.435719Z"
    },
    "papermill": {
     "duration": 0.117873,
     "end_time": "2022-04-23T22:51:10.438290",
     "exception": false,
     "start_time": "2022-04-23T22:51:10.320417",
     "status": "completed"
    },
    "tags": []
   },
   "outputs": [
    {
     "data": {
      "text/html": [
       "<div>\n",
       "<style scoped>\n",
       "    .dataframe tbody tr th:only-of-type {\n",
       "        vertical-align: middle;\n",
       "    }\n",
       "\n",
       "    .dataframe tbody tr th {\n",
       "        vertical-align: top;\n",
       "    }\n",
       "\n",
       "    .dataframe thead th {\n",
       "        text-align: right;\n",
       "    }\n",
       "</style>\n",
       "<table border=\"1\" class=\"dataframe\">\n",
       "  <thead>\n",
       "    <tr style=\"text-align: right;\">\n",
       "      <th></th>\n",
       "      <th>Pregnancies</th>\n",
       "      <th>Glucose</th>\n",
       "      <th>BloodPressure</th>\n",
       "      <th>SkinThickness</th>\n",
       "      <th>Insulin</th>\n",
       "      <th>BMI</th>\n",
       "      <th>DiabetesPedigreeFunction</th>\n",
       "      <th>Age</th>\n",
       "      <th>Outcome</th>\n",
       "    </tr>\n",
       "  </thead>\n",
       "  <tbody>\n",
       "    <tr>\n",
       "      <th>count</th>\n",
       "      <td>752.000000</td>\n",
       "      <td>752.000000</td>\n",
       "      <td>752.000000</td>\n",
       "      <td>752.000000</td>\n",
       "      <td>752.000000</td>\n",
       "      <td>752.000000</td>\n",
       "      <td>752.000000</td>\n",
       "      <td>752.000000</td>\n",
       "      <td>752.000000</td>\n",
       "    </tr>\n",
       "    <tr>\n",
       "      <th>mean</th>\n",
       "      <td>3.851064</td>\n",
       "      <td>121.941489</td>\n",
       "      <td>72.413830</td>\n",
       "      <td>29.102128</td>\n",
       "      <td>154.656649</td>\n",
       "      <td>32.454654</td>\n",
       "      <td>0.473051</td>\n",
       "      <td>33.312500</td>\n",
       "      <td>0.351064</td>\n",
       "    </tr>\n",
       "    <tr>\n",
       "      <th>std</th>\n",
       "      <td>3.375189</td>\n",
       "      <td>30.601198</td>\n",
       "      <td>12.223965</td>\n",
       "      <td>9.473877</td>\n",
       "      <td>98.872359</td>\n",
       "      <td>6.928926</td>\n",
       "      <td>0.330108</td>\n",
       "      <td>11.709395</td>\n",
       "      <td>0.477621</td>\n",
       "    </tr>\n",
       "    <tr>\n",
       "      <th>min</th>\n",
       "      <td>0.000000</td>\n",
       "      <td>44.000000</td>\n",
       "      <td>24.000000</td>\n",
       "      <td>7.000000</td>\n",
       "      <td>14.000000</td>\n",
       "      <td>18.200000</td>\n",
       "      <td>0.078000</td>\n",
       "      <td>21.000000</td>\n",
       "      <td>0.000000</td>\n",
       "    </tr>\n",
       "    <tr>\n",
       "      <th>25%</th>\n",
       "      <td>1.000000</td>\n",
       "      <td>99.750000</td>\n",
       "      <td>64.000000</td>\n",
       "      <td>23.000000</td>\n",
       "      <td>90.000000</td>\n",
       "      <td>27.500000</td>\n",
       "      <td>0.244000</td>\n",
       "      <td>24.000000</td>\n",
       "      <td>0.000000</td>\n",
       "    </tr>\n",
       "    <tr>\n",
       "      <th>50%</th>\n",
       "      <td>3.000000</td>\n",
       "      <td>117.000000</td>\n",
       "      <td>72.000000</td>\n",
       "      <td>29.000000</td>\n",
       "      <td>135.000000</td>\n",
       "      <td>32.300000</td>\n",
       "      <td>0.377000</td>\n",
       "      <td>29.000000</td>\n",
       "      <td>0.000000</td>\n",
       "    </tr>\n",
       "    <tr>\n",
       "      <th>75%</th>\n",
       "      <td>6.000000</td>\n",
       "      <td>141.000000</td>\n",
       "      <td>80.000000</td>\n",
       "      <td>34.650000</td>\n",
       "      <td>191.850000</td>\n",
       "      <td>36.600000</td>\n",
       "      <td>0.627500</td>\n",
       "      <td>41.000000</td>\n",
       "      <td>1.000000</td>\n",
       "    </tr>\n",
       "    <tr>\n",
       "      <th>max</th>\n",
       "      <td>17.000000</td>\n",
       "      <td>199.000000</td>\n",
       "      <td>122.000000</td>\n",
       "      <td>99.000000</td>\n",
       "      <td>846.000000</td>\n",
       "      <td>67.100000</td>\n",
       "      <td>2.420000</td>\n",
       "      <td>81.000000</td>\n",
       "      <td>1.000000</td>\n",
       "    </tr>\n",
       "  </tbody>\n",
       "</table>\n",
       "</div>"
      ],
      "text/plain": [
       "       Pregnancies     Glucose  BloodPressure  SkinThickness     Insulin  \\\n",
       "count   752.000000  752.000000     752.000000     752.000000  752.000000   \n",
       "mean      3.851064  121.941489      72.413830      29.102128  154.656649   \n",
       "std       3.375189   30.601198      12.223965       9.473877   98.872359   \n",
       "min       0.000000   44.000000      24.000000       7.000000   14.000000   \n",
       "25%       1.000000   99.750000      64.000000      23.000000   90.000000   \n",
       "50%       3.000000  117.000000      72.000000      29.000000  135.000000   \n",
       "75%       6.000000  141.000000      80.000000      34.650000  191.850000   \n",
       "max      17.000000  199.000000     122.000000      99.000000  846.000000   \n",
       "\n",
       "              BMI  DiabetesPedigreeFunction         Age     Outcome  \n",
       "count  752.000000                752.000000  752.000000  752.000000  \n",
       "mean    32.454654                  0.473051   33.312500    0.351064  \n",
       "std      6.928926                  0.330108   11.709395    0.477621  \n",
       "min     18.200000                  0.078000   21.000000    0.000000  \n",
       "25%     27.500000                  0.244000   24.000000    0.000000  \n",
       "50%     32.300000                  0.377000   29.000000    0.000000  \n",
       "75%     36.600000                  0.627500   41.000000    1.000000  \n",
       "max     67.100000                  2.420000   81.000000    1.000000  "
      ]
     },
     "execution_count": 34,
     "metadata": {},
     "output_type": "execute_result"
    }
   ],
   "source": [
    "data_knn.describe()"
   ]
  },
  {
   "cell_type": "markdown",
   "id": "b6b65a1a",
   "metadata": {
    "papermill": {
     "duration": 0.073482,
     "end_time": "2022-04-23T22:51:10.585125",
     "exception": false,
     "start_time": "2022-04-23T22:51:10.511643",
     "status": "completed"
    },
    "tags": []
   },
   "source": [
    "## outlier removal"
   ]
  },
  {
   "cell_type": "code",
   "execution_count": 35,
   "id": "ba4ecaed",
   "metadata": {
    "execution": {
     "iopub.execute_input": "2022-04-23T22:51:10.733216Z",
     "iopub.status.busy": "2022-04-23T22:51:10.732632Z",
     "iopub.status.idle": "2022-04-23T22:51:10.736387Z",
     "shell.execute_reply": "2022-04-23T22:51:10.735606Z"
    },
    "papermill": {
     "duration": 0.079827,
     "end_time": "2022-04-23T22:51:10.738436",
     "exception": false,
     "start_time": "2022-04-23T22:51:10.658609",
     "status": "completed"
    },
    "tags": []
   },
   "outputs": [],
   "source": [
    "cleaned_data=data_knn"
   ]
  },
  {
   "cell_type": "code",
   "execution_count": 36,
   "id": "b31e3d4f",
   "metadata": {
    "execution": {
     "iopub.execute_input": "2022-04-23T22:51:10.888911Z",
     "iopub.status.busy": "2022-04-23T22:51:10.888396Z",
     "iopub.status.idle": "2022-04-23T22:51:11.084817Z",
     "shell.execute_reply": "2022-04-23T22:51:11.083724Z"
    },
    "papermill": {
     "duration": 0.273474,
     "end_time": "2022-04-23T22:51:11.087090",
     "exception": false,
     "start_time": "2022-04-23T22:51:10.813616",
     "status": "completed"
    },
    "tags": []
   },
   "outputs": [
    {
     "data": {
      "text/plain": [
       "<AxesSubplot:xlabel='Pregnancies'>"
      ]
     },
     "execution_count": 36,
     "metadata": {},
     "output_type": "execute_result"
    },
    {
     "data": {
      "image/png": "[encoded data removed]",
      "text/plain": [
       "<Figure size 432x288 with 1 Axes>"
      ]
     },
     "metadata": {
      "needs_background": "light"
     },
     "output_type": "display_data"
    }
   ],
   "source": [
    "sns.boxplot(data=data_knn,x='Pregnancies')"
   ]
  },
  {
   "cell_type": "markdown",
   "id": "26fd6249",
   "metadata": {
    "papermill": {
     "duration": 0.075287,
     "end_time": "2022-04-23T22:51:11.237324",
     "exception": false,
     "start_time": "2022-04-23T22:51:11.162037",
     "status": "completed"
    },
    "tags": []
   },
   "source": [
    "value above 13 is outlier"
   ]
  },
  {
   "cell_type": "code",
   "execution_count": 37,
   "id": "fc6201c8",
   "metadata": {
    "execution": {
     "iopub.execute_input": "2022-04-23T22:51:11.388730Z",
     "iopub.status.busy": "2022-04-23T22:51:11.388416Z",
     "iopub.status.idle": "2022-04-23T22:51:11.393363Z",
     "shell.execute_reply": "2022-04-23T22:51:11.392691Z"
    },
    "papermill": {
     "duration": 0.082756,
     "end_time": "2022-04-23T22:51:11.395204",
     "exception": false,
     "start_time": "2022-04-23T22:51:11.312448",
     "status": "completed"
    },
    "tags": []
   },
   "outputs": [],
   "source": [
    "cleaned_data=cleaned_data[cleaned_data['Pregnancies']<=13]"
   ]
  },
  {
   "cell_type": "code",
   "execution_count": 38,
   "id": "88936142",
   "metadata": {
    "execution": {
     "iopub.execute_input": "2022-04-23T22:51:11.548554Z",
     "iopub.status.busy": "2022-04-23T22:51:11.548033Z",
     "iopub.status.idle": "2022-04-23T22:51:11.752183Z",
     "shell.execute_reply": "2022-04-23T22:51:11.751108Z"
    },
    "papermill": {
     "duration": 0.283587,
     "end_time": "2022-04-23T22:51:11.754358",
     "exception": false,
     "start_time": "2022-04-23T22:51:11.470771",
     "status": "completed"
    },
    "tags": []
   },
   "outputs": [
    {
     "data": {
      "text/plain": [
       "<AxesSubplot:xlabel='Glucose'>"
      ]
     },
     "execution_count": 38,
     "metadata": {},
     "output_type": "execute_result"
    },
    {
     "data": {
      "image/png": "[encoded data removed]",
      "text/plain": [
       "<Figure size 432x288 with 1 Axes>"
      ]
     },
     "metadata": {
      "needs_background": "light"
     },
     "output_type": "display_data"
    }
   ],
   "source": [
    "sns.boxplot(data=data_knn,x='Glucose')"
   ]
  },
  {
   "cell_type": "markdown",
   "id": "747fb1e0",
   "metadata": {
    "papermill": {
     "duration": 0.076205,
     "end_time": "2022-04-23T22:51:11.907401",
     "exception": false,
     "start_time": "2022-04-23T22:51:11.831196",
     "status": "completed"
    },
    "tags": []
   },
   "source": [
    "there is no outlier"
   ]
  },
  {
   "cell_type": "code",
   "execution_count": 39,
   "id": "71342da4",
   "metadata": {
    "execution": {
     "iopub.execute_input": "2022-04-23T22:51:12.062252Z",
     "iopub.status.busy": "2022-04-23T22:51:12.061942Z",
     "iopub.status.idle": "2022-04-23T22:51:12.245786Z",
     "shell.execute_reply": "2022-04-23T22:51:12.244759Z"
    },
    "papermill": {
     "duration": 0.263976,
     "end_time": "2022-04-23T22:51:12.247969",
     "exception": false,
     "start_time": "2022-04-23T22:51:11.983993",
     "status": "completed"
    },
    "tags": []
   },
   "outputs": [
    {
     "data": {
      "text/plain": [
       "<AxesSubplot:xlabel='BloodPressure'>"
      ]
     },
     "execution_count": 39,
     "metadata": {},
     "output_type": "execute_result"
    },
    {
     "data": {
      "image/png": "[encoded data removed]",
      "text/plain": [
       "<Figure size 432x288 with 1 Axes>"
      ]
     },
     "metadata": {
      "needs_background": "light"
     },
     "output_type": "display_data"
    }
   ],
   "source": [
    "sns.boxplot(data=data_knn,x='BloodPressure')"
   ]
  },
  {
   "cell_type": "markdown",
   "id": "3cc84a3b",
   "metadata": {
    "papermill": {
     "duration": 0.076865,
     "end_time": "2022-04-23T22:51:12.401821",
     "exception": false,
     "start_time": "2022-04-23T22:51:12.324956",
     "status": "completed"
    },
    "tags": []
   },
   "source": [
    "outlier below 30 and above 110"
   ]
  },
  {
   "cell_type": "code",
   "execution_count": 40,
   "id": "14f99bd9",
   "metadata": {
    "execution": {
     "iopub.execute_input": "2022-04-23T22:51:12.557092Z",
     "iopub.status.busy": "2022-04-23T22:51:12.556790Z",
     "iopub.status.idle": "2022-04-23T22:51:12.562544Z",
     "shell.execute_reply": "2022-04-23T22:51:12.561872Z"
    },
    "papermill": {
     "duration": 0.086188,
     "end_time": "2022-04-23T22:51:12.564658",
     "exception": false,
     "start_time": "2022-04-23T22:51:12.478470",
     "status": "completed"
    },
    "tags": []
   },
   "outputs": [],
   "source": [
    "cleaned_data=cleaned_data[cleaned_data['BloodPressure']>=30]\n",
    "cleaned_data=cleaned_data[cleaned_data['BloodPressure']<=110]"
   ]
  },
  {
   "cell_type": "code",
   "execution_count": 41,
   "id": "9a1eb1f9",
   "metadata": {
    "execution": {
     "iopub.execute_input": "2022-04-23T22:51:12.728605Z",
     "iopub.status.busy": "2022-04-23T22:51:12.728285Z",
     "iopub.status.idle": "2022-04-23T22:51:12.896856Z",
     "shell.execute_reply": "2022-04-23T22:51:12.895764Z"
    },
    "papermill": {
     "duration": 0.255681,
     "end_time": "2022-04-23T22:51:12.899279",
     "exception": false,
     "start_time": "2022-04-23T22:51:12.643598",
     "status": "completed"
    },
    "tags": []
   },
   "outputs": [
    {
     "data": {
      "text/plain": [
       "<AxesSubplot:xlabel='SkinThickness'>"
      ]
     },
     "execution_count": 41,
     "metadata": {},
     "output_type": "execute_result"
    },
    {
     "data": {
      "image/png": "[encoded data removed]",
      "text/plain": [
       "<Figure size 432x288 with 1 Axes>"
      ]
     },
     "metadata": {
      "needs_background": "light"
     },
     "output_type": "display_data"
    }
   ],
   "source": [
    "sns.boxplot(data=data_knn,x='SkinThickness')"
   ]
  },
  {
   "cell_type": "markdown",
   "id": "50d9a82a",
   "metadata": {
    "papermill": {
     "duration": 0.077736,
     "end_time": "2022-04-23T22:51:13.056430",
     "exception": false,
     "start_time": "2022-04-23T22:51:12.978694",
     "status": "completed"
    },
    "tags": []
   },
   "source": [
    "outlier above 70"
   ]
  },
  {
   "cell_type": "code",
   "execution_count": 42,
   "id": "0d835941",
   "metadata": {
    "execution": {
     "iopub.execute_input": "2022-04-23T22:51:13.214266Z",
     "iopub.status.busy": "2022-04-23T22:51:13.213615Z",
     "iopub.status.idle": "2022-04-23T22:51:13.219691Z",
     "shell.execute_reply": "2022-04-23T22:51:13.218832Z"
    },
    "papermill": {
     "duration": 0.087576,
     "end_time": "2022-04-23T22:51:13.221730",
     "exception": false,
     "start_time": "2022-04-23T22:51:13.134154",
     "status": "completed"
    },
    "tags": []
   },
   "outputs": [],
   "source": [
    "cleaned_data=cleaned_data[cleaned_data['SkinThickness']<=70]"
   ]
  },
  {
   "cell_type": "code",
   "execution_count": 43,
   "id": "ccf033f4",
   "metadata": {
    "execution": {
     "iopub.execute_input": "2022-04-23T22:51:13.380924Z",
     "iopub.status.busy": "2022-04-23T22:51:13.380505Z",
     "iopub.status.idle": "2022-04-23T22:51:13.505057Z",
     "shell.execute_reply": "2022-04-23T22:51:13.504021Z"
    },
    "papermill": {
     "duration": 0.206728,
     "end_time": "2022-04-23T22:51:13.507545",
     "exception": false,
     "start_time": "2022-04-23T22:51:13.300817",
     "status": "completed"
    },
    "tags": []
   },
   "outputs": [
    {
     "data": {
      "text/plain": [
       "<AxesSubplot:xlabel='Insulin'>"
      ]
     },
     "execution_count": 43,
     "metadata": {},
     "output_type": "execute_result"
    },
    {
     "data": {
      "image/png": "[encoded data removed]",
      "text/plain": [
       "<Figure size 432x288 with 1 Axes>"
      ]
     },
     "metadata": {
      "needs_background": "light"
     },
     "output_type": "display_data"
    }
   ],
   "source": [
    "sns.boxplot(data=data_knn, x='Insulin')"
   ]
  },
  {
   "cell_type": "markdown",
   "id": "3c3cedfc",
   "metadata": {
    "papermill": {
     "duration": 0.078949,
     "end_time": "2022-04-23T22:51:13.667206",
     "exception": false,
     "start_time": "2022-04-23T22:51:13.588257",
     "status": "completed"
    },
    "tags": []
   },
   "source": [
    "outlier above 500"
   ]
  },
  {
   "cell_type": "code",
   "execution_count": 44,
   "id": "5f6ae4ad",
   "metadata": {
    "execution": {
     "iopub.execute_input": "2022-04-23T22:51:13.828332Z",
     "iopub.status.busy": "2022-04-23T22:51:13.828016Z",
     "iopub.status.idle": "2022-04-23T22:51:13.833639Z",
     "shell.execute_reply": "2022-04-23T22:51:13.832976Z"
    },
    "papermill": {
     "duration": 0.089356,
     "end_time": "2022-04-23T22:51:13.835686",
     "exception": false,
     "start_time": "2022-04-23T22:51:13.746330",
     "status": "completed"
    },
    "tags": []
   },
   "outputs": [],
   "source": [
    "cleaned_data=cleaned_data[cleaned_data['Insulin']<=500]"
   ]
  },
  {
   "cell_type": "code",
   "execution_count": 45,
   "id": "49fe9309",
   "metadata": {
    "execution": {
     "iopub.execute_input": "2022-04-23T22:51:13.995217Z",
     "iopub.status.busy": "2022-04-23T22:51:13.994533Z",
     "iopub.status.idle": "2022-04-23T22:51:14.185540Z",
     "shell.execute_reply": "2022-04-23T22:51:14.184517Z"
    },
    "papermill": {
     "duration": 0.2733,
     "end_time": "2022-04-23T22:51:14.187754",
     "exception": false,
     "start_time": "2022-04-23T22:51:13.914454",
     "status": "completed"
    },
    "tags": []
   },
   "outputs": [
    {
     "data": {
      "text/plain": [
       "<AxesSubplot:xlabel='Age'>"
      ]
     },
     "execution_count": 45,
     "metadata": {},
     "output_type": "execute_result"
    },
    {
     "data": {
      "image/png": "[encoded data removed]",
      "text/plain": [
       "<Figure size 432x288 with 1 Axes>"
      ]
     },
     "metadata": {
      "needs_background": "light"
     },
     "output_type": "display_data"
    }
   ],
   "source": [
    "sns.boxplot(data=data_knn,x='Age')"
   ]
  },
  {
   "cell_type": "markdown",
   "id": "ccef5975",
   "metadata": {
    "papermill": {
     "duration": 0.081155,
     "end_time": "2022-04-23T22:51:14.351378",
     "exception": false,
     "start_time": "2022-04-23T22:51:14.270223",
     "status": "completed"
    },
    "tags": []
   },
   "source": [
    "outlier above 75"
   ]
  },
  {
   "cell_type": "code",
   "execution_count": 46,
   "id": "f52ba0d1",
   "metadata": {
    "execution": {
     "iopub.execute_input": "2022-04-23T22:51:14.517379Z",
     "iopub.status.busy": "2022-04-23T22:51:14.517033Z",
     "iopub.status.idle": "2022-04-23T22:51:14.522385Z",
     "shell.execute_reply": "2022-04-23T22:51:14.521482Z"
    },
    "papermill": {
     "duration": 0.090633,
     "end_time": "2022-04-23T22:51:14.524444",
     "exception": false,
     "start_time": "2022-04-23T22:51:14.433811",
     "status": "completed"
    },
    "tags": []
   },
   "outputs": [],
   "source": [
    "cleaned_data=cleaned_data[cleaned_data['Age']<=75]"
   ]
  },
  {
   "cell_type": "markdown",
   "id": "1f766d1b",
   "metadata": {
    "papermill": {
     "duration": 0.080216,
     "end_time": "2022-04-23T22:51:14.685592",
     "exception": false,
     "start_time": "2022-04-23T22:51:14.605376",
     "status": "completed"
    },
    "tags": []
   },
   "source": [
    "### Exploratory Data Analysis"
   ]
  },
  {
   "cell_type": "code",
   "execution_count": 47,
   "id": "00b6008f",
   "metadata": {
    "execution": {
     "iopub.execute_input": "2022-04-23T22:51:14.849843Z",
     "iopub.status.busy": "2022-04-23T22:51:14.849416Z",
     "iopub.status.idle": "2022-04-23T22:51:15.703367Z",
     "shell.execute_reply": "2022-04-23T22:51:15.702575Z"
    },
    "papermill": {
     "duration": 0.939372,
     "end_time": "2022-04-23T22:51:15.705397",
     "exception": false,
     "start_time": "2022-04-23T22:51:14.766025",
     "status": "completed"
    },
    "tags": []
   },
   "outputs": [
    {
     "data": {
      "text/plain": [
       "<AxesSubplot:>"
      ]
     },
     "execution_count": 47,
     "metadata": {},
     "output_type": "execute_result"
    },
    {
     "data": {
      "image/png": "[encoded data removed]",
      "text/plain": [
       "<Figure size 864x576 with 2 Axes>"
      ]
     },
     "metadata": {
      "needs_background": "light"
     },
     "output_type": "display_data"
    }
   ],
   "source": [
    "plt.figure(figsize=(12,8))\n",
    "sns.heatmap(cleaned_data.corr(),annot=True)"
   ]
  },
  {
   "cell_type": "markdown",
   "id": "23b81788",
   "metadata": {
    "papermill": {
     "duration": 0.085259,
     "end_time": "2022-04-23T22:51:15.874426",
     "exception": false,
     "start_time": "2022-04-23T22:51:15.789167",
     "status": "completed"
    },
    "tags": []
   },
   "source": [
    "### The following conclusions can be drawn from the heatmap :\n",
    "\n",
    "- There is not much correlation among different predictors\n",
    "- Age and Pregnancy have a positive corr indicating that adults have more children\n",
    "- There is positive correlation among Insulin and Glucose as well which could be explained by the      fact that perhaps the type 1 diabetic patients who generally have high Glucose , were given        Insulin injections.\n",
    "- "
   ]
  },
  {
   "cell_type": "code",
   "execution_count": 48,
   "id": "9690db8e",
   "metadata": {
    "execution": {
     "iopub.execute_input": "2022-04-23T22:51:16.045103Z",
     "iopub.status.busy": "2022-04-23T22:51:16.044666Z",
     "iopub.status.idle": "2022-04-23T22:51:16.698154Z",
     "shell.execute_reply": "2022-04-23T22:51:16.697461Z"
    },
    "papermill": {
     "duration": 0.741273,
     "end_time": "2022-04-23T22:51:16.700094",
     "exception": false,
     "start_time": "2022-04-23T22:51:15.958821",
     "status": "completed"
    },
    "tags": []
   },
   "outputs": [
    {
     "data": {
      "text/plain": [
       "<seaborn.axisgrid.FacetGrid at 0x2b5a8b88dc8>"
      ]
     },
     "execution_count": 48,
     "metadata": {},
     "output_type": "execute_result"
    },
    {
     "data": {
      "image/png": "[encoded data removed]",
      "text/plain": [
       "<Figure size 413.25x360 with 1 Axes>"
      ]
     },
     "metadata": {
      "needs_background": "light"
     },
     "output_type": "display_data"
    }
   ],
   "source": [
    "sns.displot(data=cleaned_data,x='Pregnancies',hue='Outcome',kde=True)"
   ]
  },
  {
   "cell_type": "markdown",
   "id": "7d5002d7",
   "metadata": {
    "papermill": {
     "duration": 0.085504,
     "end_time": "2022-04-23T22:51:16.871253",
     "exception": false,
     "start_time": "2022-04-23T22:51:16.785749",
     "status": "completed"
    },
    "tags": []
   },
   "source": [
    "it seem number of pregnancy doesn't impact in output"
   ]
  },
  {
   "cell_type": "code",
   "execution_count": 49,
   "id": "4e5fad04",
   "metadata": {
    "execution": {
     "iopub.execute_input": "2022-04-23T22:51:17.043742Z",
     "iopub.status.busy": "2022-04-23T22:51:17.043457Z",
     "iopub.status.idle": "2022-04-23T22:51:17.792830Z",
     "shell.execute_reply": "2022-04-23T22:51:17.791855Z"
    },
    "papermill": {
     "duration": 0.838221,
     "end_time": "2022-04-23T22:51:17.794824",
     "exception": false,
     "start_time": "2022-04-23T22:51:16.956603",
     "status": "completed"
    },
    "tags": []
   },
   "outputs": [
    {
     "data": {
      "text/plain": [
       "<seaborn.axisgrid.FacetGrid at 0x2b5a8a2d888>"
      ]
     },
     "execution_count": 49,
     "metadata": {},
     "output_type": "execute_result"
    },
    {
     "data": {
      "image/png": "[encoded data removed]",
      "text/plain": [
       "<Figure size 413.25x360 with 1 Axes>"
      ]
     },
     "metadata": {
      "needs_background": "light"
     },
     "output_type": "display_data"
    }
   ],
   "source": [
    "sns.displot(data=cleaned_data,x='Glucose', hue='Outcome',kde=True)"
   ]
  },
  {
   "cell_type": "markdown",
   "id": "baaff2e0",
   "metadata": {
    "papermill": {
     "duration": 0.09085,
     "end_time": "2022-04-23T22:51:17.973461",
     "exception": false,
     "start_time": "2022-04-23T22:51:17.882611",
     "status": "completed"
    },
    "tags": []
   },
   "source": [
    "People who don't have diabeties have glucose normally distributed around 100 as mean , while those with diabeties have much higher level of glucose ranging between 100 and 200"
   ]
  },
  {
   "cell_type": "code",
   "execution_count": 50,
   "id": "44a072ae",
   "metadata": {
    "execution": {
     "iopub.execute_input": "2022-04-23T22:51:18.149179Z",
     "iopub.status.busy": "2022-04-23T22:51:18.148872Z",
     "iopub.status.idle": "2022-04-23T22:51:18.696737Z",
     "shell.execute_reply": "2022-04-23T22:51:18.695914Z"
    },
    "papermill": {
     "duration": 0.638694,
     "end_time": "2022-04-23T22:51:18.699552",
     "exception": false,
     "start_time": "2022-04-23T22:51:18.060858",
     "status": "completed"
    },
    "tags": []
   },
   "outputs": [
    {
     "data": {
      "text/plain": [
       "<seaborn.axisgrid.FacetGrid at 0x2b5a8a45b08>"
      ]
     },
     "execution_count": 50,
     "metadata": {},
     "output_type": "execute_result"
    },
    {
     "data": {
      "image/png": "[encoded data removed]",
      "text/plain": [
       "<Figure size 413.25x360 with 1 Axes>"
      ]
     },
     "metadata": {
      "needs_background": "light"
     },
     "output_type": "display_data"
    }
   ],
   "source": [
    "sns.displot(data=cleaned_data ,x='Age',hue='Outcome',kind='kde')"
   ]
  },
  {
   "cell_type": "code",
   "execution_count": 51,
   "id": "fc357ba5",
   "metadata": {
    "execution": {
     "iopub.execute_input": "2022-04-23T22:51:18.877130Z",
     "iopub.status.busy": "2022-04-23T22:51:18.876838Z",
     "iopub.status.idle": "2022-04-23T22:51:18.897245Z",
     "shell.execute_reply": "2022-04-23T22:51:18.896501Z"
    },
    "papermill": {
     "duration": 0.112526,
     "end_time": "2022-04-23T22:51:18.899431",
     "exception": false,
     "start_time": "2022-04-23T22:51:18.786905",
     "status": "completed"
    },
    "tags": []
   },
   "outputs": [
    {
     "data": {
      "text/html": [
       "<div>\n",
       "<style scoped>\n",
       "    .dataframe tbody tr th:only-of-type {\n",
       "        vertical-align: middle;\n",
       "    }\n",
       "\n",
       "    .dataframe tbody tr th {\n",
       "        vertical-align: top;\n",
       "    }\n",
       "\n",
       "    .dataframe thead th {\n",
       "        text-align: right;\n",
       "    }\n",
       "</style>\n",
       "<table border=\"1\" class=\"dataframe\">\n",
       "  <thead>\n",
       "    <tr style=\"text-align: right;\">\n",
       "      <th></th>\n",
       "      <th>Pregnancies</th>\n",
       "      <th>Glucose</th>\n",
       "      <th>BloodPressure</th>\n",
       "      <th>SkinThickness</th>\n",
       "      <th>Insulin</th>\n",
       "      <th>BMI</th>\n",
       "      <th>DiabetesPedigreeFunction</th>\n",
       "      <th>Age</th>\n",
       "      <th>Outcome</th>\n",
       "    </tr>\n",
       "  </thead>\n",
       "  <tbody>\n",
       "    <tr>\n",
       "      <th>0</th>\n",
       "      <td>6.0</td>\n",
       "      <td>148.0</td>\n",
       "      <td>72.0</td>\n",
       "      <td>35.0</td>\n",
       "      <td>169.0</td>\n",
       "      <td>33.6</td>\n",
       "      <td>0.627</td>\n",
       "      <td>50.0</td>\n",
       "      <td>1.0</td>\n",
       "    </tr>\n",
       "    <tr>\n",
       "      <th>1</th>\n",
       "      <td>1.0</td>\n",
       "      <td>85.0</td>\n",
       "      <td>66.0</td>\n",
       "      <td>29.0</td>\n",
       "      <td>58.6</td>\n",
       "      <td>26.6</td>\n",
       "      <td>0.351</td>\n",
       "      <td>31.0</td>\n",
       "      <td>0.0</td>\n",
       "    </tr>\n",
       "    <tr>\n",
       "      <th>2</th>\n",
       "      <td>8.0</td>\n",
       "      <td>183.0</td>\n",
       "      <td>64.0</td>\n",
       "      <td>25.8</td>\n",
       "      <td>164.6</td>\n",
       "      <td>23.3</td>\n",
       "      <td>0.672</td>\n",
       "      <td>32.0</td>\n",
       "      <td>1.0</td>\n",
       "    </tr>\n",
       "    <tr>\n",
       "      <th>3</th>\n",
       "      <td>1.0</td>\n",
       "      <td>89.0</td>\n",
       "      <td>66.0</td>\n",
       "      <td>23.0</td>\n",
       "      <td>94.0</td>\n",
       "      <td>28.1</td>\n",
       "      <td>0.167</td>\n",
       "      <td>21.0</td>\n",
       "      <td>0.0</td>\n",
       "    </tr>\n",
       "    <tr>\n",
       "      <th>4</th>\n",
       "      <td>0.0</td>\n",
       "      <td>137.0</td>\n",
       "      <td>40.0</td>\n",
       "      <td>35.0</td>\n",
       "      <td>168.0</td>\n",
       "      <td>43.1</td>\n",
       "      <td>2.288</td>\n",
       "      <td>33.0</td>\n",
       "      <td>1.0</td>\n",
       "    </tr>\n",
       "  </tbody>\n",
       "</table>\n",
       "</div>"
      ],
      "text/plain": [
       "   Pregnancies  Glucose  BloodPressure  SkinThickness  Insulin   BMI  \\\n",
       "0          6.0    148.0           72.0           35.0    169.0  33.6   \n",
       "1          1.0     85.0           66.0           29.0     58.6  26.6   \n",
       "2          8.0    183.0           64.0           25.8    164.6  23.3   \n",
       "3          1.0     89.0           66.0           23.0     94.0  28.1   \n",
       "4          0.0    137.0           40.0           35.0    168.0  43.1   \n",
       "\n",
       "   DiabetesPedigreeFunction   Age  Outcome  \n",
       "0                     0.627  50.0      1.0  \n",
       "1                     0.351  31.0      0.0  \n",
       "2                     0.672  32.0      1.0  \n",
       "3                     0.167  21.0      0.0  \n",
       "4                     2.288  33.0      1.0  "
      ]
     },
     "execution_count": 51,
     "metadata": {},
     "output_type": "execute_result"
    }
   ],
   "source": [
    "data_knn.head()"
   ]
  },
  {
   "cell_type": "markdown",
   "id": "e552924d",
   "metadata": {
    "papermill": {
     "duration": 0.087877,
     "end_time": "2022-04-23T22:51:19.076013",
     "exception": false,
     "start_time": "2022-04-23T22:51:18.988136",
     "status": "completed"
    },
    "tags": []
   },
   "source": [
    "## Split Data for Training"
   ]
  },
  {
   "cell_type": "code",
   "execution_count": 52,
   "id": "81a48271",
   "metadata": {
    "execution": {
     "iopub.execute_input": "2022-04-23T22:51:19.256286Z",
     "iopub.status.busy": "2022-04-23T22:51:19.255789Z",
     "iopub.status.idle": "2022-04-23T22:51:19.260074Z",
     "shell.execute_reply": "2022-04-23T22:51:19.259379Z"
    },
    "papermill": {
     "duration": 0.097786,
     "end_time": "2022-04-23T22:51:19.262175",
     "exception": false,
     "start_time": "2022-04-23T22:51:19.164389",
     "status": "completed"
    },
    "tags": []
   },
   "outputs": [],
   "source": [
    "X=cleaned_data.iloc[:,:-1]\n",
    "y=cleaned_data.iloc[:,-1]"
   ]
  },
  {
   "cell_type": "code",
   "execution_count": 53,
   "id": "6dceacac",
   "metadata": {
    "execution": {
     "iopub.execute_input": "2022-04-23T22:51:19.444282Z",
     "iopub.status.busy": "2022-04-23T22:51:19.443788Z",
     "iopub.status.idle": "2022-04-23T22:51:19.461637Z",
     "shell.execute_reply": "2022-04-23T22:51:19.460876Z"
    },
    "papermill": {
     "duration": 0.112249,
     "end_time": "2022-04-23T22:51:19.464432",
     "exception": false,
     "start_time": "2022-04-23T22:51:19.352183",
     "status": "completed"
    },
    "tags": []
   },
   "outputs": [
    {
     "data": {
      "text/html": [
       "<div>\n",
       "<style scoped>\n",
       "    .dataframe tbody tr th:only-of-type {\n",
       "        vertical-align: middle;\n",
       "    }\n",
       "\n",
       "    .dataframe tbody tr th {\n",
       "        vertical-align: top;\n",
       "    }\n",
       "\n",
       "    .dataframe thead th {\n",
       "        text-align: right;\n",
       "    }\n",
       "</style>\n",
       "<table border=\"1\" class=\"dataframe\">\n",
       "  <thead>\n",
       "    <tr style=\"text-align: right;\">\n",
       "      <th></th>\n",
       "      <th>Pregnancies</th>\n",
       "      <th>Glucose</th>\n",
       "      <th>BloodPressure</th>\n",
       "      <th>SkinThickness</th>\n",
       "      <th>Insulin</th>\n",
       "      <th>BMI</th>\n",
       "      <th>DiabetesPedigreeFunction</th>\n",
       "      <th>Age</th>\n",
       "    </tr>\n",
       "  </thead>\n",
       "  <tbody>\n",
       "    <tr>\n",
       "      <th>0</th>\n",
       "      <td>6.0</td>\n",
       "      <td>148.0</td>\n",
       "      <td>72.0</td>\n",
       "      <td>35.0</td>\n",
       "      <td>169.0</td>\n",
       "      <td>33.6</td>\n",
       "      <td>0.627</td>\n",
       "      <td>50.0</td>\n",
       "    </tr>\n",
       "    <tr>\n",
       "      <th>1</th>\n",
       "      <td>1.0</td>\n",
       "      <td>85.0</td>\n",
       "      <td>66.0</td>\n",
       "      <td>29.0</td>\n",
       "      <td>58.6</td>\n",
       "      <td>26.6</td>\n",
       "      <td>0.351</td>\n",
       "      <td>31.0</td>\n",
       "    </tr>\n",
       "    <tr>\n",
       "      <th>2</th>\n",
       "      <td>8.0</td>\n",
       "      <td>183.0</td>\n",
       "      <td>64.0</td>\n",
       "      <td>25.8</td>\n",
       "      <td>164.6</td>\n",
       "      <td>23.3</td>\n",
       "      <td>0.672</td>\n",
       "      <td>32.0</td>\n",
       "    </tr>\n",
       "    <tr>\n",
       "      <th>3</th>\n",
       "      <td>1.0</td>\n",
       "      <td>89.0</td>\n",
       "      <td>66.0</td>\n",
       "      <td>23.0</td>\n",
       "      <td>94.0</td>\n",
       "      <td>28.1</td>\n",
       "      <td>0.167</td>\n",
       "      <td>21.0</td>\n",
       "    </tr>\n",
       "    <tr>\n",
       "      <th>4</th>\n",
       "      <td>0.0</td>\n",
       "      <td>137.0</td>\n",
       "      <td>40.0</td>\n",
       "      <td>35.0</td>\n",
       "      <td>168.0</td>\n",
       "      <td>43.1</td>\n",
       "      <td>2.288</td>\n",
       "      <td>33.0</td>\n",
       "    </tr>\n",
       "  </tbody>\n",
       "</table>\n",
       "</div>"
      ],
      "text/plain": [
       "   Pregnancies  Glucose  BloodPressure  SkinThickness  Insulin   BMI  \\\n",
       "0          6.0    148.0           72.0           35.0    169.0  33.6   \n",
       "1          1.0     85.0           66.0           29.0     58.6  26.6   \n",
       "2          8.0    183.0           64.0           25.8    164.6  23.3   \n",
       "3          1.0     89.0           66.0           23.0     94.0  28.1   \n",
       "4          0.0    137.0           40.0           35.0    168.0  43.1   \n",
       "\n",
       "   DiabetesPedigreeFunction   Age  \n",
       "0                     0.627  50.0  \n",
       "1                     0.351  31.0  \n",
       "2                     0.672  32.0  \n",
       "3                     0.167  21.0  \n",
       "4                     2.288  33.0  "
      ]
     },
     "execution_count": 53,
     "metadata": {},
     "output_type": "execute_result"
    }
   ],
   "source": [
    "X.head()"
   ]
  },
  {
   "cell_type": "code",
   "execution_count": 54,
   "id": "0ca2adad",
   "metadata": {
    "execution": {
     "iopub.execute_input": "2022-04-23T22:51:19.647457Z",
     "iopub.status.busy": "2022-04-23T22:51:19.646925Z",
     "iopub.status.idle": "2022-04-23T22:51:19.653800Z",
     "shell.execute_reply": "2022-04-23T22:51:19.652921Z"
    },
    "papermill": {
     "duration": 0.10026,
     "end_time": "2022-04-23T22:51:19.655868",
     "exception": false,
     "start_time": "2022-04-23T22:51:19.555608",
     "status": "completed"
    },
    "tags": []
   },
   "outputs": [
    {
     "data": {
      "text/plain": [
       "0    1.0\n",
       "1    0.0\n",
       "2    1.0\n",
       "3    0.0\n",
       "4    1.0\n",
       "Name: Outcome, dtype: float64"
      ]
     },
     "execution_count": 54,
     "metadata": {},
     "output_type": "execute_result"
    }
   ],
   "source": [
    "y.head()"
   ]
  },
  {
   "cell_type": "code",
   "execution_count": 55,
   "id": "cf009859",
   "metadata": {
    "execution": {
     "iopub.execute_input": "2022-04-23T22:51:19.839954Z",
     "iopub.status.busy": "2022-04-23T22:51:19.839414Z",
     "iopub.status.idle": "2022-04-23T22:51:19.847883Z",
     "shell.execute_reply": "2022-04-23T22:51:19.846978Z"
    },
    "papermill": {
     "duration": 0.101545,
     "end_time": "2022-04-23T22:51:19.850348",
     "exception": false,
     "start_time": "2022-04-23T22:51:19.748803",
     "status": "completed"
    },
    "tags": []
   },
   "outputs": [],
   "source": [
    "X_train, X_test, y_train, y_test = train_test_split(X, y, test_size=0.33,stratify=y,random_state=42) \n",
    "#with stratify=True we get same proportion in our train test split as in our original dataset"
   ]
  },
  {
   "cell_type": "markdown",
   "id": "2a600695",
   "metadata": {
    "papermill": {
     "duration": 0.089626,
     "end_time": "2022-04-23T22:51:20.030813",
     "exception": false,
     "start_time": "2022-04-23T22:51:19.941187",
     "status": "completed"
    },
    "tags": []
   },
   "source": [
    "# Classification Models"
   ]
  },
  {
   "cell_type": "code",
   "execution_count": 56,
   "id": "116f8585",
   "metadata": {
    "execution": {
     "iopub.execute_input": "2022-04-23T22:51:20.211379Z",
     "iopub.status.busy": "2022-04-23T22:51:20.210425Z",
     "iopub.status.idle": "2022-04-23T22:51:21.825673Z",
     "shell.execute_reply": "2022-04-23T22:51:21.824891Z"
    },
    "papermill": {
     "duration": 1.708209,
     "end_time": "2022-04-23T22:51:21.828175",
     "exception": false,
     "start_time": "2022-04-23T22:51:20.119966",
     "status": "completed"
    },
    "tags": []
   },
   "outputs": [],
   "source": [
    "lj = LogisticRegression(solver=\"liblinear\").fit(X_train,y_train)\n",
    "gnb = GaussianNB().fit(X_train,y_train)\n",
    "knnc = KNeighborsClassifier().fit(X_train,y_train)\n",
    "cartc = DecisionTreeClassifier(random_state=42).fit(X_train,y_train)\n",
    "rfc = RandomForestClassifier(random_state=42,verbose=False).fit(X_train,y_train)\n",
    "gbmc = GradientBoostingClassifier(verbose=False).fit(X_train,y_train)\n",
    "catbc = CatBoostClassifier(verbose=False).fit(X_train,y_train)"
   ]
  },
  {
   "cell_type": "code",
   "execution_count": 57,
   "id": "8e7b332b",
   "metadata": {
    "execution": {
     "iopub.execute_input": "2022-04-23T22:51:22.015284Z",
     "iopub.status.busy": "2022-04-23T22:51:22.014851Z",
     "iopub.status.idle": "2022-04-23T22:51:47.636252Z",
     "shell.execute_reply": "2022-04-23T22:51:47.634835Z"
    },
    "papermill": {
     "duration": 25.7193,
     "end_time": "2022-04-23T22:51:47.638658",
     "exception": false,
     "start_time": "2022-04-23T22:51:21.919358",
     "status": "completed"
    },
    "tags": []
   },
   "outputs": [
    {
     "name": "stdout",
     "output_type": "stream",
     "text": [
      "LogisticRegression: \n",
      "----------\n",
      "ACC--> 0.7160493827160493\n",
      "R2CV--> 0.716\n",
      "MEAN SQUARED ERROR--> 0.532916503778969\n",
      "ROC--> (array([0.    , 0.1625, 1.    ]), array([0.        , 0.48192771, 1.        ]), array([2., 1., 0.]))\n",
      "------------------------------\n",
      "GaussianNB: \n",
      "----------\n",
      "ACC--> 0.7037037037037037\n",
      "R2CV--> 0.7406666666666666\n",
      "MEAN SQUARED ERROR--> 0.5092478113191389\n",
      "ROC--> (array([0.  , 0.25, 1.  ]), array([0.        , 0.61445783, 1.        ]), array([2., 1., 0.]))\n",
      "------------------------------\n",
      "KNeighborsClassifier: \n",
      "----------\n",
      "ACC--> 0.6748971193415638\n",
      "R2CV--> 0.6628333333333334\n",
      "MEAN SQUARED ERROR--> 0.5806605434043772\n",
      "ROC--> (array([0.   , 0.225, 1.   ]), array([0.        , 0.48192771, 1.        ]), array([2., 1., 0.]))\n",
      "------------------------------\n",
      "DecisionTreeClassifier: \n",
      "----------\n",
      "ACC--> 0.6872427983539094\n",
      "R2CV--> 0.679\n",
      "MEAN SQUARED ERROR--> 0.5665686189686119\n",
      "ROC--> (array([0.     , 0.23125, 1.     ]), array([0.        , 0.53012048, 1.        ]), array([2., 1., 0.]))\n",
      "------------------------------\n",
      "RandomForestClassifier: \n",
      "----------\n",
      "ACC--> 0.7325102880658436\n",
      "R2CV--> 0.7166666666666667\n",
      "MEAN SQUARED ERROR--> 0.5322906474223771\n",
      "ROC--> (array([0.     , 0.18125, 1.     ]), array([0.        , 0.56626506, 1.        ]), array([2., 1., 0.]))\n",
      "------------------------------\n",
      "GradientBoostingClassifier: \n",
      "----------\n",
      "ACC--> 0.7366255144032922\n",
      "R2CV--> 0.7078333333333333\n",
      "MEAN SQUARED ERROR--> 0.53650100962937\n",
      "ROC--> (array([0.     , 0.18125, 1.     ]), array([0.        , 0.57831325, 1.        ]), array([2., 1., 0.]))\n",
      "------------------------------\n",
      "CatBoostClassifier: \n",
      "----------\n",
      "ACC--> 0.7325102880658436\n",
      "R2CV--> 0.7413333333333333\n",
      "MEAN SQUARED ERROR--> 0.5085928299402841\n",
      "ROC--> (array([0.    , 0.1875, 1.    ]), array([0.        , 0.57831325, 1.        ]), array([2., 1., 0.]))\n",
      "------------------------------\n"
     ]
    }
   ],
   "source": [
    "modelsc = [lj,gnb,knnc,cartc,rfc,gbmc,catbc]\n",
    "for model in modelsc:\n",
    "    name = model.__class__.__name__\n",
    "    predict = model.predict(X_test)\n",
    "    R2CV = cross_val_score(model,X_test,y_test,cv=10,verbose=False).mean()\n",
    "    error = -cross_val_score(model,X_test,y_test,cv=10,scoring=\"neg_mean_squared_error\",verbose=False).mean()\n",
    "    roc = roc_curve(y_test,predict)\n",
    "    print(name + \": \")\n",
    "    print(\"-\" * 10)\n",
    "    print(\"ACC-->\",accuracy_score(y_test,predict))\n",
    "    print(\"R2CV-->\",R2CV)\n",
    "    print(\"MEAN SQUARED ERROR-->\",np.sqrt(error))\n",
    "    print(\"ROC-->\",roc)\n",
    "    print(\"-\" * 30)\n"
   ]
  },
  {
   "cell_type": "markdown",
   "id": "098271c7",
   "metadata": {
    "papermill": {
     "duration": 0.090877,
     "end_time": "2022-04-23T22:51:47.820644",
     "exception": false,
     "start_time": "2022-04-23T22:51:47.729767",
     "status": "completed"
    },
    "tags": []
   },
   "source": [
    "best model is CatBoostClassifier"
   ]
  },
  {
   "cell_type": "code",
   "execution_count": 60,
   "id": "30d79e59",
   "metadata": {
    "papermill": {
     "duration": 0.092989,
     "end_time": "2022-04-23T22:51:48.005002",
     "exception": false,
     "start_time": "2022-04-23T22:51:47.912013",
     "status": "completed"
    },
    "tags": []
   },
   "outputs": [],
   "source": [
    "# saving trained model\n",
    "filename = 'diabetes.sav'\n",
    "pickle.dump(catbc, open(filename, 'wb'))"
   ]
  },
  {
   "cell_type": "code",
   "execution_count": 59,
   "id": "79c8caa6",
   "metadata": {},
   "outputs": [],
   "source": []
  },
  {
   "cell_type": "code",
   "execution_count": null,
   "id": "2e2b12bb",
   "metadata": {},
   "outputs": [],
   "source": []
  }
 ],
 "metadata": {
  "kernelspec": {
   "display_name": "Python 3 (ipykernel)",
   "language": "python",
   "name": "python3"
  },
  "language_info": {
   "codemirror_mode": {
    "name": "ipython",
    "version": 3
   },
   "file_extension": ".py",
   "mimetype": "text/x-python",
   "name": "python",
   "nbconvert_exporter": "python",
   "pygments_lexer": "ipython3",
   "version": "3.7.11"
  },
  "papermill": {
   "default_parameters": {},
   "duration": 57.920605,
   "end_time": "2022-04-23T22:51:49.020317",
   "environment_variables": {},
   "exception": null,
   "input_path": "__notebook__.ipynb",
   "output_path": "__notebook__.ipynb",
   "parameters": {},
   "start_time": "2022-04-23T22:50:51.099712",
   "version": "2.3.4"
  }
 },
 "nbformat": 4,
 "nbformat_minor": 5
}
